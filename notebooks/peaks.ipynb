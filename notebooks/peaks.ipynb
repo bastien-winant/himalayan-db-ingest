{
 "cells": [
  {
   "cell_type": "code",
   "id": "initial_id",
   "metadata": {
    "collapsed": true,
    "ExecuteTime": {
     "end_time": "2025-07-14T10:51:35.926579Z",
     "start_time": "2025-07-14T10:51:35.918295Z"
    }
   },
   "source": [
    "import sys\n",
    "from pathlib import Path\n",
    "import os\n",
    "\n",
    "sys.path.append(str(Path(os.getcwd()).resolve().parents[1]))\n",
    "\n",
    "from src.utils import *\n",
    "from src.mappings import *"
   ],
   "outputs": [],
   "execution_count": 21
  },
  {
   "metadata": {
    "ExecuteTime": {
     "end_time": "2025-07-14T10:51:36.051177Z",
     "start_time": "2025-07-14T10:51:35.966831Z"
    }
   },
   "cell_type": "code",
   "source": "df = read_dbf('../data/raw/peaks.DBF')",
   "id": "fb6f1bd8d423c5f0",
   "outputs": [],
   "execution_count": 22
  },
  {
   "metadata": {
    "ExecuteTime": {
     "end_time": "2025-07-14T10:51:36.122790Z",
     "start_time": "2025-07-14T10:51:36.088244Z"
    }
   },
   "cell_type": "code",
   "source": "df.head()",
   "id": "f56c751618619fec",
   "outputs": [
    {
     "data": {
      "text/plain": [
       "  peakid         pkname        pkname2                        location  \\\n",
       "0   AMAD     Ama Dablam   Amai Dablang                    Khumbu Himal   \n",
       "1   AMPG  Amphu Gyabjen  Amphu Gyabien  Khumbu Himal (N of Ama Dablam)   \n",
       "2   ANN1    Annapurna I           None                 Annapurna Himal   \n",
       "3   ANN2   Annapurna II           None                 Annapurna Himal   \n",
       "4   ANN3  Annapurna III           None                 Annapurna Himal   \n",
       "\n",
       "   heightm  heightf  himal  region  open  unlisted  ...  \\\n",
       "0     6814    22356     12       2  True     False  ...   \n",
       "1     5630    18471     12       2  True     False  ...   \n",
       "2     8091    26545      1       5  True     False  ...   \n",
       "3     7937    26040      1       5  True     False  ...   \n",
       "4     7555    24787      1       5  True     False  ...   \n",
       "\n",
       "                                            peakmemo pyear pseason     pexpid  \\\n",
       "0  Other map altitudes:\\r\\n   6814m - HMG-MT, HMG...  1961       1  AMAD61101   \n",
       "1  Other map altitudes:\\r\\n   5630m - HMG-Finn, N...  1953       1  AMPG53101   \n",
       "2  Other map altitudes:\\r\\n   8091m - HMG-MT, HMG...  1950       1  ANN150101   \n",
       "3  Other map altitudes:\\r\\n   7937m - HMG-MT, HMG...  1960       1  ANN260101   \n",
       "4  Other map altitudes:\\r\\n   7555m - HMG-MT, HMG...  1961       1  ANN361101   \n",
       "\n",
       "   psmtdate              pcountry  \\\n",
       "0    Mar 13  New Zealand, USA, UK   \n",
       "1    Apr 11                    UK   \n",
       "2    Jun 03                France   \n",
       "3    May 17             UK, Nepal   \n",
       "4    May 06                 India   \n",
       "\n",
       "                                          psummiters  psmtnote  \\\n",
       "0  Mike Gill, Wally Romanes, Barry Bishop, Michae...      None   \n",
       "1                          John Hunt, Tom Bourdillon      None   \n",
       "2                     Maurice Herzog, Louis Lachenal      None   \n",
       "3   Richard Grant, Chris Bonington, Ang Nyima Sherpa      None   \n",
       "4          Mohan S. Kohli, Sonam Gyatso, Sonam Girmi      None   \n",
       "\n",
       "                                           refermemo  \\\n",
       "0                                               None   \n",
       "1                                               None   \n",
       "2  Dyhrenfurth history 1950-1977 (MM 58:44-47 Nov...   \n",
       "3  Dyhrenfurth history 1960-1976 (MM 51:36-37 Sep...   \n",
       "4                                               None   \n",
       "\n",
       "                                           photomemo  \n",
       "0  W Face (High 126:5 May 1993)\\r\\nSE Face (High ...  \n",
       "1                                               None  \n",
       "2  S Face (High 122:3 Jan 1993) (Beghin accident)...  \n",
       "3                         N Face (MM 51:36 Sep 1976)  \n",
       "4  S Side (MM 125:11 Jan 1989)\\r\\nSW Face (MM 71:...  \n",
       "\n",
       "[5 rows x 25 columns]"
      ],
      "text/html": [
       "<div>\n",
       "<style scoped>\n",
       "    .dataframe tbody tr th:only-of-type {\n",
       "        vertical-align: middle;\n",
       "    }\n",
       "\n",
       "    .dataframe tbody tr th {\n",
       "        vertical-align: top;\n",
       "    }\n",
       "\n",
       "    .dataframe thead th {\n",
       "        text-align: right;\n",
       "    }\n",
       "</style>\n",
       "<table border=\"1\" class=\"dataframe\">\n",
       "  <thead>\n",
       "    <tr style=\"text-align: right;\">\n",
       "      <th></th>\n",
       "      <th>peakid</th>\n",
       "      <th>pkname</th>\n",
       "      <th>pkname2</th>\n",
       "      <th>location</th>\n",
       "      <th>heightm</th>\n",
       "      <th>heightf</th>\n",
       "      <th>himal</th>\n",
       "      <th>region</th>\n",
       "      <th>open</th>\n",
       "      <th>unlisted</th>\n",
       "      <th>...</th>\n",
       "      <th>peakmemo</th>\n",
       "      <th>pyear</th>\n",
       "      <th>pseason</th>\n",
       "      <th>pexpid</th>\n",
       "      <th>psmtdate</th>\n",
       "      <th>pcountry</th>\n",
       "      <th>psummiters</th>\n",
       "      <th>psmtnote</th>\n",
       "      <th>refermemo</th>\n",
       "      <th>photomemo</th>\n",
       "    </tr>\n",
       "  </thead>\n",
       "  <tbody>\n",
       "    <tr>\n",
       "      <th>0</th>\n",
       "      <td>AMAD</td>\n",
       "      <td>Ama Dablam</td>\n",
       "      <td>Amai Dablang</td>\n",
       "      <td>Khumbu Himal</td>\n",
       "      <td>6814</td>\n",
       "      <td>22356</td>\n",
       "      <td>12</td>\n",
       "      <td>2</td>\n",
       "      <td>True</td>\n",
       "      <td>False</td>\n",
       "      <td>...</td>\n",
       "      <td>Other map altitudes:\\r\\n   6814m - HMG-MT, HMG...</td>\n",
       "      <td>1961</td>\n",
       "      <td>1</td>\n",
       "      <td>AMAD61101</td>\n",
       "      <td>Mar 13</td>\n",
       "      <td>New Zealand, USA, UK</td>\n",
       "      <td>Mike Gill, Wally Romanes, Barry Bishop, Michae...</td>\n",
       "      <td>None</td>\n",
       "      <td>None</td>\n",
       "      <td>W Face (High 126:5 May 1993)\\r\\nSE Face (High ...</td>\n",
       "    </tr>\n",
       "    <tr>\n",
       "      <th>1</th>\n",
       "      <td>AMPG</td>\n",
       "      <td>Amphu Gyabjen</td>\n",
       "      <td>Amphu Gyabien</td>\n",
       "      <td>Khumbu Himal (N of Ama Dablam)</td>\n",
       "      <td>5630</td>\n",
       "      <td>18471</td>\n",
       "      <td>12</td>\n",
       "      <td>2</td>\n",
       "      <td>True</td>\n",
       "      <td>False</td>\n",
       "      <td>...</td>\n",
       "      <td>Other map altitudes:\\r\\n   5630m - HMG-Finn, N...</td>\n",
       "      <td>1953</td>\n",
       "      <td>1</td>\n",
       "      <td>AMPG53101</td>\n",
       "      <td>Apr 11</td>\n",
       "      <td>UK</td>\n",
       "      <td>John Hunt, Tom Bourdillon</td>\n",
       "      <td>None</td>\n",
       "      <td>None</td>\n",
       "      <td>None</td>\n",
       "    </tr>\n",
       "    <tr>\n",
       "      <th>2</th>\n",
       "      <td>ANN1</td>\n",
       "      <td>Annapurna I</td>\n",
       "      <td>None</td>\n",
       "      <td>Annapurna Himal</td>\n",
       "      <td>8091</td>\n",
       "      <td>26545</td>\n",
       "      <td>1</td>\n",
       "      <td>5</td>\n",
       "      <td>True</td>\n",
       "      <td>False</td>\n",
       "      <td>...</td>\n",
       "      <td>Other map altitudes:\\r\\n   8091m - HMG-MT, HMG...</td>\n",
       "      <td>1950</td>\n",
       "      <td>1</td>\n",
       "      <td>ANN150101</td>\n",
       "      <td>Jun 03</td>\n",
       "      <td>France</td>\n",
       "      <td>Maurice Herzog, Louis Lachenal</td>\n",
       "      <td>None</td>\n",
       "      <td>Dyhrenfurth history 1950-1977 (MM 58:44-47 Nov...</td>\n",
       "      <td>S Face (High 122:3 Jan 1993) (Beghin accident)...</td>\n",
       "    </tr>\n",
       "    <tr>\n",
       "      <th>3</th>\n",
       "      <td>ANN2</td>\n",
       "      <td>Annapurna II</td>\n",
       "      <td>None</td>\n",
       "      <td>Annapurna Himal</td>\n",
       "      <td>7937</td>\n",
       "      <td>26040</td>\n",
       "      <td>1</td>\n",
       "      <td>5</td>\n",
       "      <td>True</td>\n",
       "      <td>False</td>\n",
       "      <td>...</td>\n",
       "      <td>Other map altitudes:\\r\\n   7937m - HMG-MT, HMG...</td>\n",
       "      <td>1960</td>\n",
       "      <td>1</td>\n",
       "      <td>ANN260101</td>\n",
       "      <td>May 17</td>\n",
       "      <td>UK, Nepal</td>\n",
       "      <td>Richard Grant, Chris Bonington, Ang Nyima Sherpa</td>\n",
       "      <td>None</td>\n",
       "      <td>Dyhrenfurth history 1960-1976 (MM 51:36-37 Sep...</td>\n",
       "      <td>N Face (MM 51:36 Sep 1976)</td>\n",
       "    </tr>\n",
       "    <tr>\n",
       "      <th>4</th>\n",
       "      <td>ANN3</td>\n",
       "      <td>Annapurna III</td>\n",
       "      <td>None</td>\n",
       "      <td>Annapurna Himal</td>\n",
       "      <td>7555</td>\n",
       "      <td>24787</td>\n",
       "      <td>1</td>\n",
       "      <td>5</td>\n",
       "      <td>True</td>\n",
       "      <td>False</td>\n",
       "      <td>...</td>\n",
       "      <td>Other map altitudes:\\r\\n   7555m - HMG-MT, HMG...</td>\n",
       "      <td>1961</td>\n",
       "      <td>1</td>\n",
       "      <td>ANN361101</td>\n",
       "      <td>May 06</td>\n",
       "      <td>India</td>\n",
       "      <td>Mohan S. Kohli, Sonam Gyatso, Sonam Girmi</td>\n",
       "      <td>None</td>\n",
       "      <td>None</td>\n",
       "      <td>S Side (MM 125:11 Jan 1989)\\r\\nSW Face (MM 71:...</td>\n",
       "    </tr>\n",
       "  </tbody>\n",
       "</table>\n",
       "<p>5 rows × 25 columns</p>\n",
       "</div>"
      ]
     },
     "execution_count": 23,
     "metadata": {},
     "output_type": "execute_result"
    }
   ],
   "execution_count": 23
  },
  {
   "metadata": {
    "ExecuteTime": {
     "end_time": "2025-07-14T10:51:36.301846Z",
     "start_time": "2025-07-14T10:51:36.249934Z"
    }
   },
   "cell_type": "code",
   "source": "df.describe()",
   "id": "6295333a022dc57",
   "outputs": [
    {
     "data": {
      "text/plain": [
       "           heightm       heightf       himal      region       phost  \\\n",
       "count   490.000000    490.000000  490.000000  490.000000  490.000000   \n",
       "mean   6645.828571  21803.914286   10.310204    3.767347    2.130612   \n",
       "std     568.992482   1866.778780    5.555603    2.144798    1.521247   \n",
       "min    5407.000000  17740.000000    1.000000    1.000000    1.000000   \n",
       "25%    6235.000000  20456.000000    6.000000    2.000000    1.000000   \n",
       "50%    6554.500000  21504.000000   11.000000    3.000000    1.000000   \n",
       "75%    6892.000000  22611.750000   15.000000    6.000000    4.000000   \n",
       "max    8849.000000  29032.000000   20.000000    7.000000    6.000000   \n",
       "\n",
       "          pstatus     pseason  \n",
       "count  490.000000  490.000000  \n",
       "mean     1.763265    1.577551  \n",
       "std      0.425513    1.249583  \n",
       "min      1.000000    0.000000  \n",
       "25%      2.000000    1.000000  \n",
       "50%      2.000000    1.000000  \n",
       "75%      2.000000    3.000000  \n",
       "max      2.000000    4.000000  "
      ],
      "text/html": [
       "<div>\n",
       "<style scoped>\n",
       "    .dataframe tbody tr th:only-of-type {\n",
       "        vertical-align: middle;\n",
       "    }\n",
       "\n",
       "    .dataframe tbody tr th {\n",
       "        vertical-align: top;\n",
       "    }\n",
       "\n",
       "    .dataframe thead th {\n",
       "        text-align: right;\n",
       "    }\n",
       "</style>\n",
       "<table border=\"1\" class=\"dataframe\">\n",
       "  <thead>\n",
       "    <tr style=\"text-align: right;\">\n",
       "      <th></th>\n",
       "      <th>heightm</th>\n",
       "      <th>heightf</th>\n",
       "      <th>himal</th>\n",
       "      <th>region</th>\n",
       "      <th>phost</th>\n",
       "      <th>pstatus</th>\n",
       "      <th>pseason</th>\n",
       "    </tr>\n",
       "  </thead>\n",
       "  <tbody>\n",
       "    <tr>\n",
       "      <th>count</th>\n",
       "      <td>490.000000</td>\n",
       "      <td>490.000000</td>\n",
       "      <td>490.000000</td>\n",
       "      <td>490.000000</td>\n",
       "      <td>490.000000</td>\n",
       "      <td>490.000000</td>\n",
       "      <td>490.000000</td>\n",
       "    </tr>\n",
       "    <tr>\n",
       "      <th>mean</th>\n",
       "      <td>6645.828571</td>\n",
       "      <td>21803.914286</td>\n",
       "      <td>10.310204</td>\n",
       "      <td>3.767347</td>\n",
       "      <td>2.130612</td>\n",
       "      <td>1.763265</td>\n",
       "      <td>1.577551</td>\n",
       "    </tr>\n",
       "    <tr>\n",
       "      <th>std</th>\n",
       "      <td>568.992482</td>\n",
       "      <td>1866.778780</td>\n",
       "      <td>5.555603</td>\n",
       "      <td>2.144798</td>\n",
       "      <td>1.521247</td>\n",
       "      <td>0.425513</td>\n",
       "      <td>1.249583</td>\n",
       "    </tr>\n",
       "    <tr>\n",
       "      <th>min</th>\n",
       "      <td>5407.000000</td>\n",
       "      <td>17740.000000</td>\n",
       "      <td>1.000000</td>\n",
       "      <td>1.000000</td>\n",
       "      <td>1.000000</td>\n",
       "      <td>1.000000</td>\n",
       "      <td>0.000000</td>\n",
       "    </tr>\n",
       "    <tr>\n",
       "      <th>25%</th>\n",
       "      <td>6235.000000</td>\n",
       "      <td>20456.000000</td>\n",
       "      <td>6.000000</td>\n",
       "      <td>2.000000</td>\n",
       "      <td>1.000000</td>\n",
       "      <td>2.000000</td>\n",
       "      <td>1.000000</td>\n",
       "    </tr>\n",
       "    <tr>\n",
       "      <th>50%</th>\n",
       "      <td>6554.500000</td>\n",
       "      <td>21504.000000</td>\n",
       "      <td>11.000000</td>\n",
       "      <td>3.000000</td>\n",
       "      <td>1.000000</td>\n",
       "      <td>2.000000</td>\n",
       "      <td>1.000000</td>\n",
       "    </tr>\n",
       "    <tr>\n",
       "      <th>75%</th>\n",
       "      <td>6892.000000</td>\n",
       "      <td>22611.750000</td>\n",
       "      <td>15.000000</td>\n",
       "      <td>6.000000</td>\n",
       "      <td>4.000000</td>\n",
       "      <td>2.000000</td>\n",
       "      <td>3.000000</td>\n",
       "    </tr>\n",
       "    <tr>\n",
       "      <th>max</th>\n",
       "      <td>8849.000000</td>\n",
       "      <td>29032.000000</td>\n",
       "      <td>20.000000</td>\n",
       "      <td>7.000000</td>\n",
       "      <td>6.000000</td>\n",
       "      <td>2.000000</td>\n",
       "      <td>4.000000</td>\n",
       "    </tr>\n",
       "  </tbody>\n",
       "</table>\n",
       "</div>"
      ]
     },
     "execution_count": 24,
     "metadata": {},
     "output_type": "execute_result"
    }
   ],
   "execution_count": 24
  },
  {
   "metadata": {
    "ExecuteTime": {
     "end_time": "2025-07-14T10:51:36.546079Z",
     "start_time": "2025-07-14T10:51:36.534879Z"
    }
   },
   "cell_type": "code",
   "source": "df.isna().sum()",
   "id": "85669a45f3a7fe50",
   "outputs": [
    {
     "data": {
      "text/plain": [
       "peakid          0\n",
       "pkname          0\n",
       "pkname2       231\n",
       "location        1\n",
       "heightm         0\n",
       "heightf         0\n",
       "himal           0\n",
       "region          0\n",
       "open            0\n",
       "unlisted        0\n",
       "trekking        0\n",
       "trekyear      459\n",
       "restrict      203\n",
       "phost           0\n",
       "pstatus         0\n",
       "peakmemo        5\n",
       "pyear         122\n",
       "pseason         0\n",
       "pexpid        124\n",
       "psmtdate      127\n",
       "pcountry      122\n",
       "psummiters      6\n",
       "psmtnote      414\n",
       "refermemo     471\n",
       "photomemo     412\n",
       "dtype: int64"
      ]
     },
     "execution_count": 25,
     "metadata": {},
     "output_type": "execute_result"
    }
   ],
   "execution_count": 25
  },
  {
   "metadata": {},
   "cell_type": "markdown",
   "source": "### Peak Primary Key",
   "id": "9397830dd468515b"
  },
  {
   "metadata": {
    "ExecuteTime": {
     "end_time": "2025-07-14T10:51:36.846068Z",
     "start_time": "2025-07-14T10:51:36.836517Z"
    }
   },
   "cell_type": "code",
   "source": [
    "# verify that the peakid column satisfies the requirements of a primary key\n",
    "assert df.peakid.nunique() == df.shape[0]\n",
    "assert df.peakid.isna().sum() == 0"
   ],
   "id": "4f031556fab6a2d7",
   "outputs": [],
   "execution_count": 26
  },
  {
   "metadata": {},
   "cell_type": "markdown",
   "source": [
    "### Entity Relationships\n",
    "#### Peak/Location"
   ],
   "id": "97da1363768b18f4"
  },
  {
   "metadata": {
    "ExecuteTime": {
     "end_time": "2025-07-14T10:51:37.064629Z",
     "start_time": "2025-07-14T10:51:37.047808Z"
    }
   },
   "cell_type": "code",
   "source": [
    "print(df.groupby('peakid', as_index=False).location.nunique().location.min())\n",
    "print(df.groupby('peakid', as_index=False).location.nunique().location.max())"
   ],
   "id": "6e8853a18af8bcb7",
   "outputs": [
    {
     "name": "stdout",
     "output_type": "stream",
     "text": [
      "0\n",
      "1\n"
     ]
    }
   ],
   "execution_count": 27
  },
  {
   "metadata": {
    "ExecuteTime": {
     "end_time": "2025-07-14T10:51:37.226448Z",
     "start_time": "2025-07-14T10:51:37.209806Z"
    }
   },
   "cell_type": "code",
   "source": [
    "print(df.groupby('location', as_index=False).peakid.nunique().peakid.min())\n",
    "print(df.groupby('location', as_index=False).peakid.nunique().peakid.max())"
   ],
   "id": "d25721fd7f8f1165",
   "outputs": [
    {
     "name": "stdout",
     "output_type": "stream",
     "text": [
      "1\n",
      "6\n"
     ]
    }
   ],
   "execution_count": 28
  },
  {
   "metadata": {},
   "cell_type": "markdown",
   "source": "> A peak is associated with one location, and a location can be associated with multiple peaks (on-to-many)",
   "id": "2a3327f32effd051"
  },
  {
   "metadata": {},
   "cell_type": "markdown",
   "source": "#### Peak/Himal",
   "id": "5812c45432ce2fdc"
  },
  {
   "metadata": {
    "ExecuteTime": {
     "end_time": "2025-07-14T10:51:37.377786Z",
     "start_time": "2025-07-14T10:51:37.360950Z"
    }
   },
   "cell_type": "code",
   "source": [
    "print(df.groupby('peakid', as_index=False).himal.nunique().himal.min())\n",
    "print(df.groupby('peakid', as_index=False).himal.nunique().himal.max())"
   ],
   "id": "7d42efdf2e9f1776",
   "outputs": [
    {
     "name": "stdout",
     "output_type": "stream",
     "text": [
      "1\n",
      "1\n"
     ]
    }
   ],
   "execution_count": 29
  },
  {
   "metadata": {
    "ExecuteTime": {
     "end_time": "2025-07-14T10:51:37.498902Z",
     "start_time": "2025-07-14T10:51:37.481082Z"
    }
   },
   "cell_type": "code",
   "source": [
    "print(df.groupby('himal', as_index=False).peakid.nunique().peakid.min())\n",
    "print(df.groupby('himal', as_index=False).peakid.nunique().peakid.max())"
   ],
   "id": "46cb78ac5628e836",
   "outputs": [
    {
     "name": "stdout",
     "output_type": "stream",
     "text": [
      "6\n",
      "79\n"
     ]
    }
   ],
   "execution_count": 30
  },
  {
   "metadata": {},
   "cell_type": "markdown",
   "source": "> A peak is associated with exactly one mountain, and a mountain has multiple peaks (one-to-many)",
   "id": "be0037724a933a42"
  },
  {
   "metadata": {},
   "cell_type": "markdown",
   "source": "#### Location/Himal",
   "id": "f6d3d3c0765a1a7d"
  },
  {
   "metadata": {
    "ExecuteTime": {
     "end_time": "2025-07-14T10:51:37.579268Z",
     "start_time": "2025-07-14T10:51:37.563143Z"
    }
   },
   "cell_type": "code",
   "source": [
    "print(df.groupby('location', as_index=False).himal.nunique().himal.min())\n",
    "print(df.groupby('location', as_index=False).himal.nunique().himal.max())"
   ],
   "id": "dc979f496de45a58",
   "outputs": [
    {
     "name": "stdout",
     "output_type": "stream",
     "text": [
      "1\n",
      "1\n"
     ]
    }
   ],
   "execution_count": 31
  },
  {
   "metadata": {
    "ExecuteTime": {
     "end_time": "2025-07-14T10:51:37.680456Z",
     "start_time": "2025-07-14T10:51:37.666848Z"
    }
   },
   "cell_type": "code",
   "source": [
    "print(df.groupby('himal', as_index=False).location.nunique().location.min())\n",
    "print(df.groupby('himal', as_index=False).location.nunique().location.max())"
   ],
   "id": "c5e38e3b8db4db85",
   "outputs": [
    {
     "name": "stdout",
     "output_type": "stream",
     "text": [
      "6\n",
      "64\n"
     ]
    }
   ],
   "execution_count": 32
  },
  {
   "metadata": {},
   "cell_type": "markdown",
   "source": [
    "> A location is associated with exactly one mountain, and a mountain has multiple locations (one-to-many)\n",
    "\n",
    "> there is a hierarchical relationship of peak to location to mountain"
   ],
   "id": "8e2194768cc6cce6"
  },
  {
   "metadata": {},
   "cell_type": "markdown",
   "source": "#### Location/Region",
   "id": "402eabcd9f0390df"
  },
  {
   "metadata": {
    "ExecuteTime": {
     "end_time": "2025-07-14T10:51:37.766033Z",
     "start_time": "2025-07-14T10:51:37.750489Z"
    }
   },
   "cell_type": "code",
   "source": [
    "print(df.groupby('location', as_index=False).region.nunique().region.min())\n",
    "print(df.groupby('location', as_index=False).region.nunique().region.max())"
   ],
   "id": "77ee5600b4fa94b2",
   "outputs": [
    {
     "name": "stdout",
     "output_type": "stream",
     "text": [
      "1\n",
      "1\n"
     ]
    }
   ],
   "execution_count": 33
  },
  {
   "metadata": {
    "ExecuteTime": {
     "end_time": "2025-07-14T10:51:37.827405Z",
     "start_time": "2025-07-14T10:51:37.812763Z"
    }
   },
   "cell_type": "code",
   "source": [
    "print(df.groupby('region', as_index=False).location.nunique().location.min())\n",
    "print(df.groupby('region', as_index=False).location.nunique().location.max())"
   ],
   "id": "c0192d94547670bd",
   "outputs": [
    {
     "name": "stdout",
     "output_type": "stream",
     "text": [
      "35\n",
      "113\n"
     ]
    }
   ],
   "execution_count": 34
  },
  {
   "metadata": {},
   "cell_type": "markdown",
   "source": [
    "> A location is associated with exactly one region, and a region has multiple locations (one-to-many)\n",
    "\n",
    "> there is a hierarchical relationship of peak to location to region"
   ],
   "id": "29a8fa25656b419f"
  },
  {
   "metadata": {},
   "cell_type": "markdown",
   "source": "#### Mountain/Region",
   "id": "6de5e6203098b203"
  },
  {
   "metadata": {
    "ExecuteTime": {
     "end_time": "2025-07-14T10:51:37.889644Z",
     "start_time": "2025-07-14T10:51:37.872767Z"
    }
   },
   "cell_type": "code",
   "source": [
    "print(df.groupby('region', as_index=False).himal.nunique().himal.min())\n",
    "print(df.groupby('region', as_index=False).himal.nunique().himal.max())"
   ],
   "id": "1eacbcf50c55f839",
   "outputs": [
    {
     "name": "stdout",
     "output_type": "stream",
     "text": [
      "2\n",
      "5\n"
     ]
    }
   ],
   "execution_count": 35
  },
  {
   "metadata": {
    "ExecuteTime": {
     "end_time": "2025-07-14T10:51:37.959196Z",
     "start_time": "2025-07-14T10:51:37.943034Z"
    }
   },
   "cell_type": "code",
   "source": [
    "print(df.groupby('himal', as_index=False).region.nunique().region.min())\n",
    "print(df.groupby('himal', as_index=False).region.nunique().region.max())"
   ],
   "id": "3d8549e455d80918",
   "outputs": [
    {
     "name": "stdout",
     "output_type": "stream",
     "text": [
      "1\n",
      "2\n"
     ]
    }
   ],
   "execution_count": 36
  },
  {
   "metadata": {},
   "cell_type": "markdown",
   "source": "> a region can contain multiple mountains, and a mountain can span multiple regions (many-to-many)",
   "id": "ceff0297a9008110"
  },
  {
   "metadata": {},
   "cell_type": "markdown",
   "source": "#### Region/Countries",
   "id": "8a34c116304666e2"
  },
  {
   "metadata": {
    "ExecuteTime": {
     "end_time": "2025-07-14T10:51:38.057479Z",
     "start_time": "2025-07-14T10:51:38.043256Z"
    }
   },
   "cell_type": "code",
   "source": [
    "df['host_country'] = apply_map(df.phost, host_map).str.split(';')\n",
    "df = df.explode('host_country', ignore_index=True)"
   ],
   "id": "bff7bf80b9501454",
   "outputs": [],
   "execution_count": 37
  },
  {
   "metadata": {
    "ExecuteTime": {
     "end_time": "2025-07-14T10:51:38.119555Z",
     "start_time": "2025-07-14T10:51:38.098474Z"
    }
   },
   "cell_type": "code",
   "source": [
    "print(df.groupby('host_country', as_index=False).region.nunique().region.min())\n",
    "print(df.groupby('host_country', as_index=False).region.nunique().region.max())"
   ],
   "id": "7765e00e9684d1ba",
   "outputs": [
    {
     "name": "stdout",
     "output_type": "stream",
     "text": [
      "2\n",
      "7\n"
     ]
    }
   ],
   "execution_count": 38
  },
  {
   "metadata": {
    "ExecuteTime": {
     "end_time": "2025-07-14T10:51:50.399696Z",
     "start_time": "2025-07-14T10:51:50.384104Z"
    }
   },
   "cell_type": "code",
   "source": [
    "print(df.groupby('region', as_index=False).host_country.nunique().host_country.min())\n",
    "print(df.groupby('region', as_index=False).host_country.nunique().host_country.max())"
   ],
   "id": "e5c330cd65b4168e",
   "outputs": [
    {
     "name": "stdout",
     "output_type": "stream",
     "text": [
      "2\n",
      "3\n"
     ]
    }
   ],
   "execution_count": 39
  },
  {
   "metadata": {},
   "cell_type": "markdown",
   "source": "> There is a many-to-many relationship between regions and countries",
   "id": "7eb0f6051c346b91"
  },
  {
   "metadata": {},
   "cell_type": "markdown",
   "source": "#### Mountains/Countries",
   "id": "2326701906eb9cb8"
  },
  {
   "metadata": {
    "ExecuteTime": {
     "end_time": "2025-07-14T10:52:59.621110Z",
     "start_time": "2025-07-14T10:52:59.605671Z"
    }
   },
   "cell_type": "code",
   "source": [
    "print(df.groupby('host_country', as_index=False).himal.nunique().himal.min())\n",
    "print(df.groupby('host_country', as_index=False).himal.nunique().himal.max())"
   ],
   "id": "91b08b5c804a0630",
   "outputs": [
    {
     "name": "stdout",
     "output_type": "stream",
     "text": [
      "3\n",
      "20\n"
     ]
    }
   ],
   "execution_count": 40
  },
  {
   "metadata": {
    "ExecuteTime": {
     "end_time": "2025-07-14T10:52:59.954024Z",
     "start_time": "2025-07-14T10:52:59.941712Z"
    }
   },
   "cell_type": "code",
   "source": [
    "print(df.groupby('himal', as_index=False).host_country.nunique().host_country.min())\n",
    "print(df.groupby('himal', as_index=False).host_country.nunique().host_country.max())"
   ],
   "id": "3695f363e844eab6",
   "outputs": [
    {
     "name": "stdout",
     "output_type": "stream",
     "text": [
      "1\n",
      "3\n"
     ]
    }
   ],
   "execution_count": 41
  },
  {
   "metadata": {},
   "cell_type": "markdown",
   "source": "> There is a many-to-many relationship between regions and countries",
   "id": "d36c252e81ecb98"
  }
 ],
 "metadata": {
  "kernelspec": {
   "display_name": "Python 3",
   "language": "python",
   "name": "python3"
  },
  "language_info": {
   "codemirror_mode": {
    "name": "ipython",
    "version": 2
   },
   "file_extension": ".py",
   "mimetype": "text/x-python",
   "name": "python",
   "nbconvert_exporter": "python",
   "pygments_lexer": "ipython2",
   "version": "2.7.6"
  }
 },
 "nbformat": 4,
 "nbformat_minor": 5
}
