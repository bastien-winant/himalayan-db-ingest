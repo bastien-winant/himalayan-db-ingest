{
 "cells": [
  {
   "cell_type": "code",
   "id": "initial_id",
   "metadata": {
    "collapsed": true,
    "ExecuteTime": {
     "end_time": "2025-07-15T09:45:07.156411Z",
     "start_time": "2025-07-15T09:45:07.115708Z"
    }
   },
   "source": [
    "import psycopg2\n",
    "from queries.ddl_create import ddl_create_queries\n",
    "from queries.ddl_drop import ddl_drop_queries"
   ],
   "outputs": [],
   "execution_count": 1
  },
  {
   "metadata": {
    "ExecuteTime": {
     "end_time": "2025-07-15T09:45:07.373565Z",
     "start_time": "2025-07-15T09:45:07.364049Z"
    }
   },
   "cell_type": "code",
   "source": [
    "# Connect to your postgres DB\n",
    "conn = psycopg2.connect(\"dbname=himalayan_db user=admin\")\n",
    "\n",
    "# Open a cursor to perform database operations\n",
    "cur = conn.cursor()"
   ],
   "id": "f69ac9b65fd979a6",
   "outputs": [],
   "execution_count": 2
  },
  {
   "metadata": {
    "ExecuteTime": {
     "end_time": "2025-07-15T09:45:07.411113Z",
     "start_time": "2025-07-15T09:45:07.388460Z"
    }
   },
   "cell_type": "code",
   "source": [
    "for ddl_query in ddl_drop_queries:\n",
    "\tcur.execute(ddl_query)\n",
    "conn.commit()"
   ],
   "id": "7e404d5727c0eb5",
   "outputs": [],
   "execution_count": 3
  },
  {
   "metadata": {
    "ExecuteTime": {
     "end_time": "2025-07-15T09:45:07.505392Z",
     "start_time": "2025-07-15T09:45:07.437924Z"
    }
   },
   "cell_type": "code",
   "source": [
    "for ddl_query in ddl_create_queries:\n",
    "\tcur.execute(ddl_query)\n",
    "conn.commit()"
   ],
   "id": "c3c7840adec84290",
   "outputs": [],
   "execution_count": 4
  },
  {
   "metadata": {
    "ExecuteTime": {
     "end_time": "2025-07-15T09:59:42.430676Z",
     "start_time": "2025-07-15T09:59:42.416606Z"
    }
   },
   "cell_type": "code",
   "source": [
    "cur.close()\n",
    "conn.close()"
   ],
   "id": "aeee00fa11c0abd3",
   "outputs": [],
   "execution_count": 6
  },
  {
   "metadata": {},
   "cell_type": "code",
   "outputs": [],
   "execution_count": null,
   "source": "",
   "id": "1237d8bdd4431c56"
  }
 ],
 "metadata": {
  "kernelspec": {
   "display_name": "Python 3",
   "language": "python",
   "name": "python3"
  },
  "language_info": {
   "codemirror_mode": {
    "name": "ipython",
    "version": 2
   },
   "file_extension": ".py",
   "mimetype": "text/x-python",
   "name": "python",
   "nbconvert_exporter": "python",
   "pygments_lexer": "ipython2",
   "version": "2.7.6"
  }
 },
 "nbformat": 4,
 "nbformat_minor": 5
}
