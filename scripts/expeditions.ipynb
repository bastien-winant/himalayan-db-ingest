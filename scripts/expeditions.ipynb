{
 "cells": [
  {
   "cell_type": "code",
   "id": "initial_id",
   "metadata": {
    "collapsed": true,
    "ExecuteTime": {
     "end_time": "2025-07-07T09:16:17.342675Z",
     "start_time": "2025-07-07T09:16:15.891698Z"
    }
   },
   "source": [
    "import pandas as pd\n",
    "from utils import *\n",
    "from mappings import *"
   ],
   "outputs": [],
   "execution_count": 1
  },
  {
   "metadata": {
    "ExecuteTime": {
     "end_time": "2025-07-07T09:16:19.685155Z",
     "start_time": "2025-07-07T09:16:17.642595Z"
    }
   },
   "cell_type": "code",
   "source": "df = read_dbf('../data/raw/exped.DBF')",
   "id": "1b1be631b0a778e0",
   "outputs": [],
   "execution_count": 2
  },
  {
   "metadata": {
    "ExecuteTime": {
     "end_time": "2025-07-07T09:16:19.739827Z",
     "start_time": "2025-07-07T09:16:19.715368Z"
    }
   },
   "cell_type": "code",
   "source": "df.head()",
   "id": "be3a7f0208230d92",
   "outputs": [
    {
     "data": {
      "text/plain": [
       "       expid peakid  year  season  host            route1            route2  \\\n",
       "0  ANN260101   ANN2  1960       1     1  NW Ridge-W Ridge              None   \n",
       "1  ANN269301   ANN2  1969       3     1  NW Ridge-W Ridge              None   \n",
       "2  ANN273101   ANN2  1973       1     1    W Ridge-N Face              None   \n",
       "3  ANN278301   ANN2  1978       3     1    N Face-W Ridge              None   \n",
       "4  ANN279301   ANN2  1979       3     1    N Face-W Ridge  NW Ridge of A-IV   \n",
       "\n",
       "  route3 route4      nation  ...                           accidents  \\\n",
       "0   None   None          UK  ...                                None   \n",
       "1   None   None  Yugoslavia  ...  Draslar frostbitten hands and feet   \n",
       "2   None   None       Japan  ...                                None   \n",
       "3   None   None          UK  ...                                None   \n",
       "4   None   None          UK  ...                                None   \n",
       "\n",
       "  achievment  agency  comrte  stdrte  primrte primmem primref primid   chksum  \n",
       "0       None    None    None    None    False   False    None   None  2442047  \n",
       "1       None    None    None    None    False   False    None   None  2445501  \n",
       "2       None    None    None    None    False   False    None   None  2446797  \n",
       "3       None    None    None    None    False   False    None   None  2448822  \n",
       "4       None    None    None    None    False   False    None   None  2449204  \n",
       "\n",
       "[5 rows x 66 columns]"
      ],
      "text/html": [
       "<div>\n",
       "<style scoped>\n",
       "    .dataframe tbody tr th:only-of-type {\n",
       "        vertical-align: middle;\n",
       "    }\n",
       "\n",
       "    .dataframe tbody tr th {\n",
       "        vertical-align: top;\n",
       "    }\n",
       "\n",
       "    .dataframe thead th {\n",
       "        text-align: right;\n",
       "    }\n",
       "</style>\n",
       "<table border=\"1\" class=\"dataframe\">\n",
       "  <thead>\n",
       "    <tr style=\"text-align: right;\">\n",
       "      <th></th>\n",
       "      <th>expid</th>\n",
       "      <th>peakid</th>\n",
       "      <th>year</th>\n",
       "      <th>season</th>\n",
       "      <th>host</th>\n",
       "      <th>route1</th>\n",
       "      <th>route2</th>\n",
       "      <th>route3</th>\n",
       "      <th>route4</th>\n",
       "      <th>nation</th>\n",
       "      <th>...</th>\n",
       "      <th>accidents</th>\n",
       "      <th>achievment</th>\n",
       "      <th>agency</th>\n",
       "      <th>comrte</th>\n",
       "      <th>stdrte</th>\n",
       "      <th>primrte</th>\n",
       "      <th>primmem</th>\n",
       "      <th>primref</th>\n",
       "      <th>primid</th>\n",
       "      <th>chksum</th>\n",
       "    </tr>\n",
       "  </thead>\n",
       "  <tbody>\n",
       "    <tr>\n",
       "      <th>0</th>\n",
       "      <td>ANN260101</td>\n",
       "      <td>ANN2</td>\n",
       "      <td>1960</td>\n",
       "      <td>1</td>\n",
       "      <td>1</td>\n",
       "      <td>NW Ridge-W Ridge</td>\n",
       "      <td>None</td>\n",
       "      <td>None</td>\n",
       "      <td>None</td>\n",
       "      <td>UK</td>\n",
       "      <td>...</td>\n",
       "      <td>None</td>\n",
       "      <td>None</td>\n",
       "      <td>None</td>\n",
       "      <td>None</td>\n",
       "      <td>None</td>\n",
       "      <td>False</td>\n",
       "      <td>False</td>\n",
       "      <td>None</td>\n",
       "      <td>None</td>\n",
       "      <td>2442047</td>\n",
       "    </tr>\n",
       "    <tr>\n",
       "      <th>1</th>\n",
       "      <td>ANN269301</td>\n",
       "      <td>ANN2</td>\n",
       "      <td>1969</td>\n",
       "      <td>3</td>\n",
       "      <td>1</td>\n",
       "      <td>NW Ridge-W Ridge</td>\n",
       "      <td>None</td>\n",
       "      <td>None</td>\n",
       "      <td>None</td>\n",
       "      <td>Yugoslavia</td>\n",
       "      <td>...</td>\n",
       "      <td>Draslar frostbitten hands and feet</td>\n",
       "      <td>None</td>\n",
       "      <td>None</td>\n",
       "      <td>None</td>\n",
       "      <td>None</td>\n",
       "      <td>False</td>\n",
       "      <td>False</td>\n",
       "      <td>None</td>\n",
       "      <td>None</td>\n",
       "      <td>2445501</td>\n",
       "    </tr>\n",
       "    <tr>\n",
       "      <th>2</th>\n",
       "      <td>ANN273101</td>\n",
       "      <td>ANN2</td>\n",
       "      <td>1973</td>\n",
       "      <td>1</td>\n",
       "      <td>1</td>\n",
       "      <td>W Ridge-N Face</td>\n",
       "      <td>None</td>\n",
       "      <td>None</td>\n",
       "      <td>None</td>\n",
       "      <td>Japan</td>\n",
       "      <td>...</td>\n",
       "      <td>None</td>\n",
       "      <td>None</td>\n",
       "      <td>None</td>\n",
       "      <td>None</td>\n",
       "      <td>None</td>\n",
       "      <td>False</td>\n",
       "      <td>False</td>\n",
       "      <td>None</td>\n",
       "      <td>None</td>\n",
       "      <td>2446797</td>\n",
       "    </tr>\n",
       "    <tr>\n",
       "      <th>3</th>\n",
       "      <td>ANN278301</td>\n",
       "      <td>ANN2</td>\n",
       "      <td>1978</td>\n",
       "      <td>3</td>\n",
       "      <td>1</td>\n",
       "      <td>N Face-W Ridge</td>\n",
       "      <td>None</td>\n",
       "      <td>None</td>\n",
       "      <td>None</td>\n",
       "      <td>UK</td>\n",
       "      <td>...</td>\n",
       "      <td>None</td>\n",
       "      <td>None</td>\n",
       "      <td>None</td>\n",
       "      <td>None</td>\n",
       "      <td>None</td>\n",
       "      <td>False</td>\n",
       "      <td>False</td>\n",
       "      <td>None</td>\n",
       "      <td>None</td>\n",
       "      <td>2448822</td>\n",
       "    </tr>\n",
       "    <tr>\n",
       "      <th>4</th>\n",
       "      <td>ANN279301</td>\n",
       "      <td>ANN2</td>\n",
       "      <td>1979</td>\n",
       "      <td>3</td>\n",
       "      <td>1</td>\n",
       "      <td>N Face-W Ridge</td>\n",
       "      <td>NW Ridge of A-IV</td>\n",
       "      <td>None</td>\n",
       "      <td>None</td>\n",
       "      <td>UK</td>\n",
       "      <td>...</td>\n",
       "      <td>None</td>\n",
       "      <td>None</td>\n",
       "      <td>None</td>\n",
       "      <td>None</td>\n",
       "      <td>None</td>\n",
       "      <td>False</td>\n",
       "      <td>False</td>\n",
       "      <td>None</td>\n",
       "      <td>None</td>\n",
       "      <td>2449204</td>\n",
       "    </tr>\n",
       "  </tbody>\n",
       "</table>\n",
       "<p>5 rows × 66 columns</p>\n",
       "</div>"
      ]
     },
     "execution_count": 3,
     "metadata": {},
     "output_type": "execute_result"
    }
   ],
   "execution_count": 3
  },
  {
   "metadata": {},
   "cell_type": "markdown",
   "source": "### Primary key",
   "id": "89e3f6aa31a229c"
  },
  {
   "metadata": {
    "ExecuteTime": {
     "end_time": "2025-07-07T09:16:19.909688Z",
     "start_time": "2025-07-07T09:16:19.889969Z"
    }
   },
   "cell_type": "code",
   "source": "df.expid = df.expid.str.cat(df.year.astype(str), sep='_')",
   "id": "982bfedaff6abf1",
   "outputs": [],
   "execution_count": 4
  },
  {
   "metadata": {
    "ExecuteTime": {
     "end_time": "2025-07-07T09:16:20.079677Z",
     "start_time": "2025-07-07T09:16:20.055527Z"
    }
   },
   "cell_type": "code",
   "source": "df.head()",
   "id": "8adc8e1bf726af4b",
   "outputs": [
    {
     "data": {
      "text/plain": [
       "            expid peakid  year  season  host            route1  \\\n",
       "0  ANN260101_1960   ANN2  1960       1     1  NW Ridge-W Ridge   \n",
       "1  ANN269301_1969   ANN2  1969       3     1  NW Ridge-W Ridge   \n",
       "2  ANN273101_1973   ANN2  1973       1     1    W Ridge-N Face   \n",
       "3  ANN278301_1978   ANN2  1978       3     1    N Face-W Ridge   \n",
       "4  ANN279301_1979   ANN2  1979       3     1    N Face-W Ridge   \n",
       "\n",
       "             route2 route3 route4      nation  ...  \\\n",
       "0              None   None   None          UK  ...   \n",
       "1              None   None   None  Yugoslavia  ...   \n",
       "2              None   None   None       Japan  ...   \n",
       "3              None   None   None          UK  ...   \n",
       "4  NW Ridge of A-IV   None   None          UK  ...   \n",
       "\n",
       "                            accidents achievment  agency  comrte  stdrte  \\\n",
       "0                                None       None    None    None    None   \n",
       "1  Draslar frostbitten hands and feet       None    None    None    None   \n",
       "2                                None       None    None    None    None   \n",
       "3                                None       None    None    None    None   \n",
       "4                                None       None    None    None    None   \n",
       "\n",
       "   primrte primmem primref primid   chksum  \n",
       "0    False   False    None   None  2442047  \n",
       "1    False   False    None   None  2445501  \n",
       "2    False   False    None   None  2446797  \n",
       "3    False   False    None   None  2448822  \n",
       "4    False   False    None   None  2449204  \n",
       "\n",
       "[5 rows x 66 columns]"
      ],
      "text/html": [
       "<div>\n",
       "<style scoped>\n",
       "    .dataframe tbody tr th:only-of-type {\n",
       "        vertical-align: middle;\n",
       "    }\n",
       "\n",
       "    .dataframe tbody tr th {\n",
       "        vertical-align: top;\n",
       "    }\n",
       "\n",
       "    .dataframe thead th {\n",
       "        text-align: right;\n",
       "    }\n",
       "</style>\n",
       "<table border=\"1\" class=\"dataframe\">\n",
       "  <thead>\n",
       "    <tr style=\"text-align: right;\">\n",
       "      <th></th>\n",
       "      <th>expid</th>\n",
       "      <th>peakid</th>\n",
       "      <th>year</th>\n",
       "      <th>season</th>\n",
       "      <th>host</th>\n",
       "      <th>route1</th>\n",
       "      <th>route2</th>\n",
       "      <th>route3</th>\n",
       "      <th>route4</th>\n",
       "      <th>nation</th>\n",
       "      <th>...</th>\n",
       "      <th>accidents</th>\n",
       "      <th>achievment</th>\n",
       "      <th>agency</th>\n",
       "      <th>comrte</th>\n",
       "      <th>stdrte</th>\n",
       "      <th>primrte</th>\n",
       "      <th>primmem</th>\n",
       "      <th>primref</th>\n",
       "      <th>primid</th>\n",
       "      <th>chksum</th>\n",
       "    </tr>\n",
       "  </thead>\n",
       "  <tbody>\n",
       "    <tr>\n",
       "      <th>0</th>\n",
       "      <td>ANN260101_1960</td>\n",
       "      <td>ANN2</td>\n",
       "      <td>1960</td>\n",
       "      <td>1</td>\n",
       "      <td>1</td>\n",
       "      <td>NW Ridge-W Ridge</td>\n",
       "      <td>None</td>\n",
       "      <td>None</td>\n",
       "      <td>None</td>\n",
       "      <td>UK</td>\n",
       "      <td>...</td>\n",
       "      <td>None</td>\n",
       "      <td>None</td>\n",
       "      <td>None</td>\n",
       "      <td>None</td>\n",
       "      <td>None</td>\n",
       "      <td>False</td>\n",
       "      <td>False</td>\n",
       "      <td>None</td>\n",
       "      <td>None</td>\n",
       "      <td>2442047</td>\n",
       "    </tr>\n",
       "    <tr>\n",
       "      <th>1</th>\n",
       "      <td>ANN269301_1969</td>\n",
       "      <td>ANN2</td>\n",
       "      <td>1969</td>\n",
       "      <td>3</td>\n",
       "      <td>1</td>\n",
       "      <td>NW Ridge-W Ridge</td>\n",
       "      <td>None</td>\n",
       "      <td>None</td>\n",
       "      <td>None</td>\n",
       "      <td>Yugoslavia</td>\n",
       "      <td>...</td>\n",
       "      <td>Draslar frostbitten hands and feet</td>\n",
       "      <td>None</td>\n",
       "      <td>None</td>\n",
       "      <td>None</td>\n",
       "      <td>None</td>\n",
       "      <td>False</td>\n",
       "      <td>False</td>\n",
       "      <td>None</td>\n",
       "      <td>None</td>\n",
       "      <td>2445501</td>\n",
       "    </tr>\n",
       "    <tr>\n",
       "      <th>2</th>\n",
       "      <td>ANN273101_1973</td>\n",
       "      <td>ANN2</td>\n",
       "      <td>1973</td>\n",
       "      <td>1</td>\n",
       "      <td>1</td>\n",
       "      <td>W Ridge-N Face</td>\n",
       "      <td>None</td>\n",
       "      <td>None</td>\n",
       "      <td>None</td>\n",
       "      <td>Japan</td>\n",
       "      <td>...</td>\n",
       "      <td>None</td>\n",
       "      <td>None</td>\n",
       "      <td>None</td>\n",
       "      <td>None</td>\n",
       "      <td>None</td>\n",
       "      <td>False</td>\n",
       "      <td>False</td>\n",
       "      <td>None</td>\n",
       "      <td>None</td>\n",
       "      <td>2446797</td>\n",
       "    </tr>\n",
       "    <tr>\n",
       "      <th>3</th>\n",
       "      <td>ANN278301_1978</td>\n",
       "      <td>ANN2</td>\n",
       "      <td>1978</td>\n",
       "      <td>3</td>\n",
       "      <td>1</td>\n",
       "      <td>N Face-W Ridge</td>\n",
       "      <td>None</td>\n",
       "      <td>None</td>\n",
       "      <td>None</td>\n",
       "      <td>UK</td>\n",
       "      <td>...</td>\n",
       "      <td>None</td>\n",
       "      <td>None</td>\n",
       "      <td>None</td>\n",
       "      <td>None</td>\n",
       "      <td>None</td>\n",
       "      <td>False</td>\n",
       "      <td>False</td>\n",
       "      <td>None</td>\n",
       "      <td>None</td>\n",
       "      <td>2448822</td>\n",
       "    </tr>\n",
       "    <tr>\n",
       "      <th>4</th>\n",
       "      <td>ANN279301_1979</td>\n",
       "      <td>ANN2</td>\n",
       "      <td>1979</td>\n",
       "      <td>3</td>\n",
       "      <td>1</td>\n",
       "      <td>N Face-W Ridge</td>\n",
       "      <td>NW Ridge of A-IV</td>\n",
       "      <td>None</td>\n",
       "      <td>None</td>\n",
       "      <td>UK</td>\n",
       "      <td>...</td>\n",
       "      <td>None</td>\n",
       "      <td>None</td>\n",
       "      <td>None</td>\n",
       "      <td>None</td>\n",
       "      <td>None</td>\n",
       "      <td>False</td>\n",
       "      <td>False</td>\n",
       "      <td>None</td>\n",
       "      <td>None</td>\n",
       "      <td>2449204</td>\n",
       "    </tr>\n",
       "  </tbody>\n",
       "</table>\n",
       "<p>5 rows × 66 columns</p>\n",
       "</div>"
      ]
     },
     "execution_count": 5,
     "metadata": {},
     "output_type": "execute_result"
    }
   ],
   "execution_count": 5
  },
  {
   "metadata": {},
   "cell_type": "markdown",
   "source": [
    "### Expedition Countries\n",
    "#### Host"
   ],
   "id": "1ead9a24597db720"
  },
  {
   "metadata": {
    "ExecuteTime": {
     "end_time": "2025-07-07T09:16:20.251969Z",
     "start_time": "2025-07-07T09:16:20.202906Z"
    }
   },
   "cell_type": "code",
   "source": [
    "# replace documentation id mapping with custom mapping\n",
    "df.host = apply_map(df.host, host_map)\n",
    "df = update_country_list(df, 'host')"
   ],
   "id": "24a8976c6c85ae02",
   "outputs": [],
   "execution_count": 6
  },
  {
   "metadata": {},
   "cell_type": "markdown",
   "source": "#### Nation",
   "id": "88cfe57901b40"
  },
  {
   "metadata": {
    "ExecuteTime": {
     "end_time": "2025-07-07T09:16:20.442786Z",
     "start_time": "2025-07-07T09:16:20.419914Z"
    }
   },
   "cell_type": "code",
   "source": [
    "# explode slash-separated values into scalar names\n",
    "df_nations = df[['expid', 'nation']]\n",
    "df_nations.nation = df_nations.nation.str.split('/')\n",
    "df_nations = df_nations.explode('nation', ignore_index=True)"
   ],
   "id": "1f4b2a7611199f84",
   "outputs": [],
   "execution_count": 7
  },
  {
   "metadata": {
    "ExecuteTime": {
     "end_time": "2025-07-07T09:16:20.586804Z",
     "start_time": "2025-07-07T09:16:20.552868Z"
    }
   },
   "cell_type": "code",
   "source": [
    "# swap names with country ids\n",
    "df_nations = update_country_list(df_nations, 'nation')"
   ],
   "id": "85fbf12a2095d3c6",
   "outputs": [],
   "execution_count": 8
  },
  {
   "metadata": {
    "ExecuteTime": {
     "end_time": "2025-07-07T09:16:20.667946Z",
     "start_time": "2025-07-07T09:16:20.656571Z"
    }
   },
   "cell_type": "code",
   "source": "df.drop('nation', axis=1, inplace=True)",
   "id": "87ee6ec76db7ffce",
   "outputs": [],
   "execution_count": 9
  },
  {
   "metadata": {},
   "cell_type": "markdown",
   "source": "#### Countries",
   "id": "a0f0e270ed9e7669"
  },
  {
   "metadata": {
    "ExecuteTime": {
     "end_time": "2025-07-07T09:16:20.713659Z",
     "start_time": "2025-07-07T09:16:20.702695Z"
    }
   },
   "cell_type": "code",
   "source": "df.countries.head()",
   "id": "648f55cf31f130a",
   "outputs": [
    {
     "data": {
      "text/plain": [
       "0    India, Nepal\n",
       "1            None\n",
       "2            None\n",
       "3            None\n",
       "4            None\n",
       "Name: countries, dtype: object"
      ]
     },
     "execution_count": 10,
     "metadata": {},
     "output_type": "execute_result"
    }
   ],
   "execution_count": 10
  },
  {
   "metadata": {
    "ExecuteTime": {
     "end_time": "2025-07-07T09:16:20.883849Z",
     "start_time": "2025-07-07T09:16:20.842822Z"
    }
   },
   "cell_type": "code",
   "source": [
    "# explode comma-separated country names into scalar values\n",
    "df_countries = df[['expid', 'countries']].rename({'countries': 'country'}, axis=1)\n",
    "\n",
    "df_countries.country = df_countries.country.str.split(',')\n",
    "df_countries = df_countries.explode('country', ignore_index=True)\n",
    "\n",
    "df_countries.country = df_countries.country.str.split('/')\n",
    "df_countries = df_countries.explode('country', ignore_index=True)"
   ],
   "id": "79ad721775bed2a9",
   "outputs": [],
   "execution_count": 11
  },
  {
   "metadata": {
    "ExecuteTime": {
     "end_time": "2025-07-07T09:16:20.996322Z",
     "start_time": "2025-07-07T09:16:20.984969Z"
    }
   },
   "cell_type": "code",
   "source": "df_countries.country.unique()",
   "id": "25d2890c9ff1f48b",
   "outputs": [
    {
     "data": {
      "text/plain": [
       "array(['India', ' Nepal', None, 'New Zealand', 'Nepal', 'USA', 'Austria',\n",
       "       ' Italy', ' Switzerland', 'UK', ' France', ' W Germany',\n",
       "       'Switzerland', 'France', 'Netherlands', 'Germany', ' Spain', ' UK',\n",
       "       ' USA', 'Australia', 'Ireland', ' Netherlands', 'Czechoslovakia',\n",
       "       'Canada', 'Belgium', ' Poland', 'Poland', 'China', 'Italy',\n",
       "       'W Germany', 'Spain', ' Canada', ' Denmark', 'Brazil', 'Iceland',\n",
       "       'Liechtenstein', 'Andorra', ' Ireland', 'Luxembourg', ' Mexico',\n",
       "       'Argentina', ' India', 'Mexico', ' Belgium', ' New Zealand',\n",
       "       ' Sweden', 'Sweden', 'Japan', 'Norway', 'S Korea', ' Germany',\n",
       "       ' Portugal', ' Czechoslovakia', 'Bulgaria', 'Ukraine', 'Finland',\n",
       "       ' Luxembourg', ' USSR', 'USSR', ' Norway', ' Hong Kong',\n",
       "       'Indonesia', 'Ecuador', ' Yugoslavia', ' Kenya', 'Denmark',\n",
       "       'Chile', 'S Africa', ' Israel', 'Kazakhstan', 'Croatia',\n",
       "       ' Bulgaria', 'N Korea', ' Latvia', ' Peru', 'Portugal', 'Georgia',\n",
       "       'Belarus', ' Slovenia', ' Finland', ' Russia', ' Venezuela',\n",
       "       'Bolivia', ' Kazakhstan', 'Czech Republic', ' Japan', ' Turkey',\n",
       "       'Peru', ' Romania', ' Bolivia', ' Indonesia', ' Guatemala',\n",
       "       ' S Africa', 'Taiwan', ' Macedonia', 'Slovakia', ' Iceland',\n",
       "       'Russia', 'Malaysia', 'Mongolia', ' Thailand', 'Singapore',\n",
       "       'Lithuania', ' Slovakia', 'Latvia', 'Estonia', ' Georgia', 'Kenya',\n",
       "       'Iran', 'Hong Kong', 'Armenia', ' Czech Republic',\n",
       "       'Bosnia-Herzegovina', ' Austria', ' Liechtenstein', 'Turkey',\n",
       "       ' Malaysia', ' China', 'Costa Rica', ' Australia', ' Argentina',\n",
       "       ' Chile', ' Rhodesia', 'Israel', 'Guatemala', ' Ecuador',\n",
       "       'Azerbaijan', ' Uzbekistan', 'Pakistan', 'Romania', ' Pakistan',\n",
       "       ' Hungary', 'Kuwait', 'Greece', ' Greece', 'Hungary', ' S Korea',\n",
       "       'Macedonia', 'Slovenia', 'San Marino', ' Kuwait', 'Bhutan',\n",
       "       ' Belarus', ' Ukraine', ' Lebanon', ' Lithuania',\n",
       "       'Kyrgyz Republic', 'Uzbekistan', 'Malta', 'Cyprus', '  Finland',\n",
       "       ' Singapore', ' Taiwan', ' Jordan', ' Panama', ' Brazil',\n",
       "       ' Philippines', 'Jordan', ' Colombia', 'Colombia', 'Egypt',\n",
       "       ' Bosnia-Herzegovina', ' Croatia', 'Algeria', 'Oman',\n",
       "       ' Saudi Arabia', ' Costa Rica', 'Thailand', 'Uruguay',\n",
       "       ' Montenegro', ' Iran', ' Moldova', 'Bangladesh', ' Malta',\n",
       "       ' Oman', ' Estonia', ' Dominican Republic', ' Palestine',\n",
       "       ' Mauritius', ' Nepal ', 'Montenegro', ' Cyprus', ' Tanzania',\n",
       "       ' UAE', 'Mauritius', 'Turkmenistan', ' Qatar', ' Morocco',\n",
       "       ' Myanmar', ' Serbia', ' Sri Lanka', ' Kyrgyz Republic',\n",
       "       ' Mongolia', ' Vietnam', ' Tunisia', 'Myanmar', ' Kosovo',\n",
       "       'Serbia', ' Paraguay', 'Kosovo', ' Canada Ecuador', ' Uruguay',\n",
       "       ' Syria', ' Egypt', 'Botswana', 'Lebanon', ' Nepal USA', 'Moldova',\n",
       "       ' Iraq', ' Azerbaijan', 'Tajikistan', 'Cuba', 'El Salvador',\n",
       "       'Libya', 'Qatar', ' El Salvador', ' Honduras', 'Honduras', 'Iraq',\n",
       "       ' Bangladesh', 'Panama', 'Morocco', 'Afghanistan', ' Cuba',\n",
       "       'Albania', 'Dominican Republic', ' Dominica', ' Mali',\n",
       "       ' France Greece'], dtype=object)"
      ]
     },
     "execution_count": 12,
     "metadata": {},
     "output_type": "execute_result"
    }
   ],
   "execution_count": 12
  },
  {
   "metadata": {
    "ExecuteTime": {
     "end_time": "2025-07-07T09:16:21.122846Z",
     "start_time": "2025-07-07T09:16:21.091229Z"
    }
   },
   "cell_type": "code",
   "source": [
    "# swap names with country ids\n",
    "df_countries = update_country_list(df_countries, 'country')"
   ],
   "id": "defb41803c7bda6e",
   "outputs": [],
   "execution_count": 13
  },
  {
   "metadata": {
    "ExecuteTime": {
     "end_time": "2025-07-07T09:16:21.181171Z",
     "start_time": "2025-07-07T09:16:21.167417Z"
    }
   },
   "cell_type": "code",
   "source": "df.drop('countries', axis=1, inplace=True)",
   "id": "c7e14b2683019ade",
   "outputs": [],
   "execution_count": 14
  },
  {
   "metadata": {},
   "cell_type": "markdown",
   "source": "### Routes",
   "id": "6b78a28897461028"
  },
  {
   "metadata": {
    "ExecuteTime": {
     "end_time": "2025-07-07T09:16:21.236375Z",
     "start_time": "2025-07-07T09:16:21.219892Z"
    }
   },
   "cell_type": "code",
   "source": [
    "route_1_df = df.loc[\n",
    "\tdf.route1.notna() | df.success1.notna() | df.ascent1.notna(),\n",
    "\t['expid', 'route1', 'ascent1', 'success1']\n",
    "]\n",
    "route_1_df.rename({'route1': 'route', 'ascent1': 'ascent', 'success1': 'success'}, axis=1, inplace=True)\n",
    "route_1_df['number'] = 1"
   ],
   "id": "dba7f9505e24b7ea",
   "outputs": [],
   "execution_count": 15
  },
  {
   "metadata": {
    "ExecuteTime": {
     "end_time": "2025-07-07T09:16:21.289354Z",
     "start_time": "2025-07-07T09:16:21.277112Z"
    }
   },
   "cell_type": "code",
   "source": [
    "route_2_df = df.loc[\n",
    "\tdf.route2.notna() | df.success2.notna() | df.ascent2.notna(),\n",
    "\t['expid', 'route2', 'ascent2', 'success2']\n",
    "]\n",
    "route_2_df.rename({'route2': 'route', 'ascent2': 'ascent', 'success2': 'success'}, axis=1, inplace=True)\n",
    "route_2_df['number'] = 2"
   ],
   "id": "784f7592adcf739a",
   "outputs": [],
   "execution_count": 16
  },
  {
   "metadata": {
    "ExecuteTime": {
     "end_time": "2025-07-07T09:16:21.331727Z",
     "start_time": "2025-07-07T09:16:21.323099Z"
    }
   },
   "cell_type": "code",
   "source": [
    "route_3_df = df.loc[\n",
    "\tdf.route3.notna() | df.success3.notna() | df.ascent3.notna(),\n",
    "\t['expid', 'route3', 'ascent3', 'success3']\n",
    "]\n",
    "route_3_df.rename({'route3': 'route', 'ascent3': 'ascent', 'success3': 'success'}, axis=1, inplace=True)\n",
    "route_3_df['number'] = 3"
   ],
   "id": "4872937bea611d41",
   "outputs": [],
   "execution_count": 17
  },
  {
   "metadata": {
    "ExecuteTime": {
     "end_time": "2025-07-07T09:16:21.371266Z",
     "start_time": "2025-07-07T09:16:21.363Z"
    }
   },
   "cell_type": "code",
   "source": [
    "route_4_df = df.loc[\n",
    "\tdf.route4.notna() | df.success4.notna() | df.ascent4.notna(),\n",
    "\t['expid', 'route4', 'ascent4', 'success4']\n",
    "]\n",
    "route_4_df.rename({'route4': 'route', 'ascent4': 'ascent', 'success4': 'success'}, axis=1, inplace=True)\n",
    "route_4_df['number'] = 4"
   ],
   "id": "3f40ddbba34e621b",
   "outputs": [],
   "execution_count": 18
  },
  {
   "metadata": {
    "ExecuteTime": {
     "end_time": "2025-07-07T09:16:21.409149Z",
     "start_time": "2025-07-07T09:16:21.401384Z"
    }
   },
   "cell_type": "code",
   "source": "df_routes = pd.concat([route_1_df, route_2_df, route_3_df, route_4_df], ignore_index=True)",
   "id": "267f74159277881f",
   "outputs": [],
   "execution_count": 19
  },
  {
   "metadata": {
    "ExecuteTime": {
     "end_time": "2025-07-07T09:16:21.469537Z",
     "start_time": "2025-07-07T09:16:21.454077Z"
    }
   },
   "cell_type": "code",
   "source": "df_routes.head()",
   "id": "940809dadbd8f9e",
   "outputs": [
    {
     "data": {
      "text/plain": [
       "            expid             route ascent  success  number\n",
       "0  ANN260101_1960  NW Ridge-W Ridge    1st     True       1\n",
       "1  ANN269301_1969  NW Ridge-W Ridge    2nd     True       1\n",
       "2  ANN273101_1973    W Ridge-N Face    3rd     True       1\n",
       "3  ANN278301_1978    N Face-W Ridge   None    False       1\n",
       "4  ANN279301_1979    N Face-W Ridge   None    False       1"
      ],
      "text/html": [
       "<div>\n",
       "<style scoped>\n",
       "    .dataframe tbody tr th:only-of-type {\n",
       "        vertical-align: middle;\n",
       "    }\n",
       "\n",
       "    .dataframe tbody tr th {\n",
       "        vertical-align: top;\n",
       "    }\n",
       "\n",
       "    .dataframe thead th {\n",
       "        text-align: right;\n",
       "    }\n",
       "</style>\n",
       "<table border=\"1\" class=\"dataframe\">\n",
       "  <thead>\n",
       "    <tr style=\"text-align: right;\">\n",
       "      <th></th>\n",
       "      <th>expid</th>\n",
       "      <th>route</th>\n",
       "      <th>ascent</th>\n",
       "      <th>success</th>\n",
       "      <th>number</th>\n",
       "    </tr>\n",
       "  </thead>\n",
       "  <tbody>\n",
       "    <tr>\n",
       "      <th>0</th>\n",
       "      <td>ANN260101_1960</td>\n",
       "      <td>NW Ridge-W Ridge</td>\n",
       "      <td>1st</td>\n",
       "      <td>True</td>\n",
       "      <td>1</td>\n",
       "    </tr>\n",
       "    <tr>\n",
       "      <th>1</th>\n",
       "      <td>ANN269301_1969</td>\n",
       "      <td>NW Ridge-W Ridge</td>\n",
       "      <td>2nd</td>\n",
       "      <td>True</td>\n",
       "      <td>1</td>\n",
       "    </tr>\n",
       "    <tr>\n",
       "      <th>2</th>\n",
       "      <td>ANN273101_1973</td>\n",
       "      <td>W Ridge-N Face</td>\n",
       "      <td>3rd</td>\n",
       "      <td>True</td>\n",
       "      <td>1</td>\n",
       "    </tr>\n",
       "    <tr>\n",
       "      <th>3</th>\n",
       "      <td>ANN278301_1978</td>\n",
       "      <td>N Face-W Ridge</td>\n",
       "      <td>None</td>\n",
       "      <td>False</td>\n",
       "      <td>1</td>\n",
       "    </tr>\n",
       "    <tr>\n",
       "      <th>4</th>\n",
       "      <td>ANN279301_1979</td>\n",
       "      <td>N Face-W Ridge</td>\n",
       "      <td>None</td>\n",
       "      <td>False</td>\n",
       "      <td>1</td>\n",
       "    </tr>\n",
       "  </tbody>\n",
       "</table>\n",
       "</div>"
      ]
     },
     "execution_count": 20,
     "metadata": {},
     "output_type": "execute_result"
    }
   ],
   "execution_count": 20
  },
  {
   "metadata": {
    "ExecuteTime": {
     "end_time": "2025-07-07T09:16:21.577666Z",
     "start_time": "2025-07-07T09:16:21.564897Z"
    }
   },
   "cell_type": "code",
   "source": [
    "# remove route columns\n",
    "df.drop(\n",
    "\t['route1', 'ascent1', 'success1', 'route2', 'ascent2', 'success2', 'route3', 'ascent3', 'success3',\n",
    "\t 'route4', 'ascent4', 'success4'], axis=1, inplace=True)"
   ],
   "id": "c59d4c2b904b8928",
   "outputs": [],
   "execution_count": 21
  },
  {
   "metadata": {},
   "cell_type": "markdown",
   "source": "### Termination Reason",
   "id": "db1919ef6092cc7"
  },
  {
   "metadata": {
    "ExecuteTime": {
     "end_time": "2025-07-07T09:16:21.700563Z",
     "start_time": "2025-07-07T09:16:21.693549Z"
    }
   },
   "cell_type": "code",
   "source": "df.termreason = apply_map(df.termreason, exped_termination_map)",
   "id": "3d5e62f0df183bc3",
   "outputs": [],
   "execution_count": 22
  },
  {
   "metadata": {},
   "cell_type": "markdown",
   "source": "### O2 Use",
   "id": "643b8deabc862b7a"
  },
  {
   "metadata": {
    "ExecuteTime": {
     "end_time": "2025-07-07T09:16:21.773423Z",
     "start_time": "2025-07-07T09:16:21.761986Z"
    }
   },
   "cell_type": "code",
   "source": [
    "# check for inconsistent o2 use flags\n",
    "df.loc[df.o2used == df.o2none].o2used.value_counts()"
   ],
   "id": "443290a1713fee9b",
   "outputs": [
    {
     "data": {
      "text/plain": [
       "o2used\n",
       "False    128\n",
       "Name: count, dtype: int64"
      ]
     },
     "execution_count": 23,
     "metadata": {},
     "output_type": "execute_result"
    }
   ],
   "execution_count": 23
  },
  {
   "metadata": {
    "ExecuteTime": {
     "end_time": "2025-07-07T09:16:21.870859Z",
     "start_time": "2025-07-07T09:16:21.856955Z"
    }
   },
   "cell_type": "code",
   "source": [
    "df.loc[\n",
    "\tdf.o2unkwn,\n",
    "\t['o2used', 'o2none', 'o2climb', 'o2descent', 'o2medical', 'o2sleep', 'o2taken']\n",
    "].sum()"
   ],
   "id": "c667c95a547cdd4",
   "outputs": [
    {
     "data": {
      "text/plain": [
       "o2used        0\n",
       "o2none       18\n",
       "o2climb       0\n",
       "o2descent     0\n",
       "o2medical     0\n",
       "o2sleep       0\n",
       "o2taken       0\n",
       "dtype: int64"
      ]
     },
     "execution_count": 24,
     "metadata": {},
     "output_type": "execute_result"
    }
   ],
   "execution_count": 24
  },
  {
   "metadata": {},
   "cell_type": "markdown",
   "source": "### Cleanup",
   "id": "411e57796b83186d"
  },
  {
   "metadata": {
    "ExecuteTime": {
     "end_time": "2025-07-07T09:16:22.223760Z",
     "start_time": "2025-07-07T09:16:22.053343Z"
    }
   },
   "cell_type": "code",
   "source": [
    "# recompute basecamp date where unavailable\n",
    "df.loc[\n",
    "\tdf.bcdate.isna() & df.smtdate.notna() & df.smtdays.notna(), 'bcdate'] = df.apply(\n",
    "\tlambda row: row['smtdate'] - pd.Timedelta(days=row['smtdays']), axis=1)"
   ],
   "id": "4b408ee7794866da",
   "outputs": [],
   "execution_count": 25
  },
  {
   "metadata": {
    "ExecuteTime": {
     "end_time": "2025-07-07T09:16:22.826488Z",
     "start_time": "2025-07-07T09:16:22.614696Z"
    }
   },
   "cell_type": "code",
   "source": [
    "# recompute summit date where unavailable\n",
    "df.loc[\n",
    "\tdf.bcdate.notna() & df.smtdate.isna() & df.smtdays.notna(), 'smtdate'] = df.apply(\n",
    "\tlambda row: row['bcdate'] + pd.Timedelta(days=row['smtdays']), axis=1)"
   ],
   "id": "5199e451f7734666",
   "outputs": [],
   "execution_count": 26
  },
  {
   "metadata": {
    "ExecuteTime": {
     "end_time": "2025-07-07T09:16:23.061796Z",
     "start_time": "2025-07-07T09:16:22.868838Z"
    }
   },
   "cell_type": "code",
   "source": [
    "# recompute basecamp date where unavailable\n",
    "df.loc[\n",
    "\tdf.bcdate.isna() & df.termdate.notna() & df.totdays.notna(), 'bcdate'] = df.apply(\n",
    "\tlambda row: row['termdate'] - pd.Timedelta(days=row['totdays']), axis=1)"
   ],
   "id": "e52df0fee7227325",
   "outputs": [],
   "execution_count": 27
  },
  {
   "metadata": {
    "ExecuteTime": {
     "end_time": "2025-07-07T09:16:23.271083Z",
     "start_time": "2025-07-07T09:16:23.090394Z"
    }
   },
   "cell_type": "code",
   "source": [
    "# recompute summit date where unavailable\n",
    "df.loc[\n",
    "\tdf.bcdate.notna() & df.termdate.isna() & df.totdays.notna(), 'termdate'] = df.apply(\n",
    "\tlambda row: row['bcdate'] + pd.Timedelta(days=row['totdays']), axis=1)"
   ],
   "id": "7c6f02c6c6de998b",
   "outputs": [],
   "execution_count": 28
  },
  {
   "metadata": {
    "ExecuteTime": {
     "end_time": "2025-07-07T09:16:23.314382Z",
     "start_time": "2025-07-07T09:16:23.303621Z"
    }
   },
   "cell_type": "code",
   "source": [
    "df.drop(\n",
    "\t['leaders', 'totmembers', 'smtmembers', 'mdeaths', 'tothired', 'smthired', 'hdeaths', 'nohired', 'smtdays', 'totdays'],\n",
    "\taxis=1, inplace=True)"
   ],
   "id": "3b7e44841d49bc74",
   "outputs": [],
   "execution_count": 29
  },
  {
   "metadata": {
    "ExecuteTime": {
     "end_time": "2025-07-07T09:16:23.367839Z",
     "start_time": "2025-07-07T09:16:23.350253Z"
    }
   },
   "cell_type": "code",
   "source": "df.head()",
   "id": "65617f37a849a7a8",
   "outputs": [
    {
     "data": {
      "text/plain": [
       "            expid peakid  year  season  \\\n",
       "0  ANN260101_1960   ANN2  1960       1   \n",
       "1  ANN269301_1969   ANN2  1969       3   \n",
       "2  ANN273101_1973   ANN2  1973       1   \n",
       "3  ANN278301_1978   ANN2  1978       3   \n",
       "4  ANN279301_1979   ANN2  1979       3   \n",
       "\n",
       "                                         sponsor  claimed  disputed  \\\n",
       "0                                           None    False     False   \n",
       "1                Mountaineering Club of Slovenia    False     False   \n",
       "2  Sangaku Doshikai Annapurna II Expedition 1973    False     False   \n",
       "3                British Annapurna II Expedition    False     False   \n",
       "4                                           None    False     False   \n",
       "\n",
       "                                    approach      bcdate     smtdate  ...  \\\n",
       "0           Marshyangdi->Hongde->Sabje Khola  1960-03-15  1960-05-17  ...   \n",
       "1           Marshyangdi->Hongde->Sabje Khola  1969-09-25  1969-10-22  ...   \n",
       "2        Marshyangdi->Pisang->Salatang Khola  1973-03-16  1973-05-06  ...   \n",
       "3        Marshyangdi->Pisang->Salatang Khola  1978-09-08  1978-10-02  ...   \n",
       "4  Pokhara->Marshyangdi->Pisang->Sabje Khola  1979-10-18  1979-10-18  ...   \n",
       "\n",
       "  achievment agency comrte stdrte  primrte  primmem  primref  primid   chksum  \\\n",
       "0       None   None   None   None    False    False     None    None  2442047   \n",
       "1       None   None   None   None    False    False     None    None  2445501   \n",
       "2       None   None   None   None    False    False     None    None  2446797   \n",
       "3       None   None   None   None    False    False     None    None  2448822   \n",
       "4       None   None   None   None    False    False     None    None  2449204   \n",
       "\n",
       "   host_id  \n",
       "0        0  \n",
       "1        0  \n",
       "2        0  \n",
       "3        0  \n",
       "4        0  \n",
       "\n",
       "[5 rows x 42 columns]"
      ],
      "text/html": [
       "<div>\n",
       "<style scoped>\n",
       "    .dataframe tbody tr th:only-of-type {\n",
       "        vertical-align: middle;\n",
       "    }\n",
       "\n",
       "    .dataframe tbody tr th {\n",
       "        vertical-align: top;\n",
       "    }\n",
       "\n",
       "    .dataframe thead th {\n",
       "        text-align: right;\n",
       "    }\n",
       "</style>\n",
       "<table border=\"1\" class=\"dataframe\">\n",
       "  <thead>\n",
       "    <tr style=\"text-align: right;\">\n",
       "      <th></th>\n",
       "      <th>expid</th>\n",
       "      <th>peakid</th>\n",
       "      <th>year</th>\n",
       "      <th>season</th>\n",
       "      <th>sponsor</th>\n",
       "      <th>claimed</th>\n",
       "      <th>disputed</th>\n",
       "      <th>approach</th>\n",
       "      <th>bcdate</th>\n",
       "      <th>smtdate</th>\n",
       "      <th>...</th>\n",
       "      <th>achievment</th>\n",
       "      <th>agency</th>\n",
       "      <th>comrte</th>\n",
       "      <th>stdrte</th>\n",
       "      <th>primrte</th>\n",
       "      <th>primmem</th>\n",
       "      <th>primref</th>\n",
       "      <th>primid</th>\n",
       "      <th>chksum</th>\n",
       "      <th>host_id</th>\n",
       "    </tr>\n",
       "  </thead>\n",
       "  <tbody>\n",
       "    <tr>\n",
       "      <th>0</th>\n",
       "      <td>ANN260101_1960</td>\n",
       "      <td>ANN2</td>\n",
       "      <td>1960</td>\n",
       "      <td>1</td>\n",
       "      <td>None</td>\n",
       "      <td>False</td>\n",
       "      <td>False</td>\n",
       "      <td>Marshyangdi-&gt;Hongde-&gt;Sabje Khola</td>\n",
       "      <td>1960-03-15</td>\n",
       "      <td>1960-05-17</td>\n",
       "      <td>...</td>\n",
       "      <td>None</td>\n",
       "      <td>None</td>\n",
       "      <td>None</td>\n",
       "      <td>None</td>\n",
       "      <td>False</td>\n",
       "      <td>False</td>\n",
       "      <td>None</td>\n",
       "      <td>None</td>\n",
       "      <td>2442047</td>\n",
       "      <td>0</td>\n",
       "    </tr>\n",
       "    <tr>\n",
       "      <th>1</th>\n",
       "      <td>ANN269301_1969</td>\n",
       "      <td>ANN2</td>\n",
       "      <td>1969</td>\n",
       "      <td>3</td>\n",
       "      <td>Mountaineering Club of Slovenia</td>\n",
       "      <td>False</td>\n",
       "      <td>False</td>\n",
       "      <td>Marshyangdi-&gt;Hongde-&gt;Sabje Khola</td>\n",
       "      <td>1969-09-25</td>\n",
       "      <td>1969-10-22</td>\n",
       "      <td>...</td>\n",
       "      <td>None</td>\n",
       "      <td>None</td>\n",
       "      <td>None</td>\n",
       "      <td>None</td>\n",
       "      <td>False</td>\n",
       "      <td>False</td>\n",
       "      <td>None</td>\n",
       "      <td>None</td>\n",
       "      <td>2445501</td>\n",
       "      <td>0</td>\n",
       "    </tr>\n",
       "    <tr>\n",
       "      <th>2</th>\n",
       "      <td>ANN273101_1973</td>\n",
       "      <td>ANN2</td>\n",
       "      <td>1973</td>\n",
       "      <td>1</td>\n",
       "      <td>Sangaku Doshikai Annapurna II Expedition 1973</td>\n",
       "      <td>False</td>\n",
       "      <td>False</td>\n",
       "      <td>Marshyangdi-&gt;Pisang-&gt;Salatang Khola</td>\n",
       "      <td>1973-03-16</td>\n",
       "      <td>1973-05-06</td>\n",
       "      <td>...</td>\n",
       "      <td>None</td>\n",
       "      <td>None</td>\n",
       "      <td>None</td>\n",
       "      <td>None</td>\n",
       "      <td>False</td>\n",
       "      <td>False</td>\n",
       "      <td>None</td>\n",
       "      <td>None</td>\n",
       "      <td>2446797</td>\n",
       "      <td>0</td>\n",
       "    </tr>\n",
       "    <tr>\n",
       "      <th>3</th>\n",
       "      <td>ANN278301_1978</td>\n",
       "      <td>ANN2</td>\n",
       "      <td>1978</td>\n",
       "      <td>3</td>\n",
       "      <td>British Annapurna II Expedition</td>\n",
       "      <td>False</td>\n",
       "      <td>False</td>\n",
       "      <td>Marshyangdi-&gt;Pisang-&gt;Salatang Khola</td>\n",
       "      <td>1978-09-08</td>\n",
       "      <td>1978-10-02</td>\n",
       "      <td>...</td>\n",
       "      <td>None</td>\n",
       "      <td>None</td>\n",
       "      <td>None</td>\n",
       "      <td>None</td>\n",
       "      <td>False</td>\n",
       "      <td>False</td>\n",
       "      <td>None</td>\n",
       "      <td>None</td>\n",
       "      <td>2448822</td>\n",
       "      <td>0</td>\n",
       "    </tr>\n",
       "    <tr>\n",
       "      <th>4</th>\n",
       "      <td>ANN279301_1979</td>\n",
       "      <td>ANN2</td>\n",
       "      <td>1979</td>\n",
       "      <td>3</td>\n",
       "      <td>None</td>\n",
       "      <td>False</td>\n",
       "      <td>False</td>\n",
       "      <td>Pokhara-&gt;Marshyangdi-&gt;Pisang-&gt;Sabje Khola</td>\n",
       "      <td>1979-10-18</td>\n",
       "      <td>1979-10-18</td>\n",
       "      <td>...</td>\n",
       "      <td>None</td>\n",
       "      <td>None</td>\n",
       "      <td>None</td>\n",
       "      <td>None</td>\n",
       "      <td>False</td>\n",
       "      <td>False</td>\n",
       "      <td>None</td>\n",
       "      <td>None</td>\n",
       "      <td>2449204</td>\n",
       "      <td>0</td>\n",
       "    </tr>\n",
       "  </tbody>\n",
       "</table>\n",
       "<p>5 rows × 42 columns</p>\n",
       "</div>"
      ]
     },
     "execution_count": 30,
     "metadata": {},
     "output_type": "execute_result"
    }
   ],
   "execution_count": 30
  }
 ],
 "metadata": {
  "kernelspec": {
   "display_name": "Python 3",
   "language": "python",
   "name": "python3"
  },
  "language_info": {
   "codemirror_mode": {
    "name": "ipython",
    "version": 2
   },
   "file_extension": ".py",
   "mimetype": "text/x-python",
   "name": "python",
   "nbconvert_exporter": "python",
   "pygments_lexer": "ipython2",
   "version": "2.7.6"
  }
 },
 "nbformat": 4,
 "nbformat_minor": 5
}
