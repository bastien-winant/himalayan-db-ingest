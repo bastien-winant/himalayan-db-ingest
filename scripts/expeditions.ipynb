{
 "cells": [
  {
   "cell_type": "code",
   "id": "initial_id",
   "metadata": {
    "collapsed": true,
    "ExecuteTime": {
     "end_time": "2025-07-07T07:08:27.637360Z",
     "start_time": "2025-07-07T07:08:27.633083Z"
    }
   },
   "source": [
    "import pandas as pd\n",
    "from utils import *\n",
    "from mappings import *"
   ],
   "outputs": [],
   "execution_count": 141
  },
  {
   "metadata": {
    "ExecuteTime": {
     "end_time": "2025-07-07T07:08:29.652950Z",
     "start_time": "2025-07-07T07:08:27.671741Z"
    }
   },
   "cell_type": "code",
   "source": "df = read_dbf('../data/raw/exped.DBF')",
   "id": "1b1be631b0a778e0",
   "outputs": [],
   "execution_count": 142
  },
  {
   "metadata": {
    "ExecuteTime": {
     "end_time": "2025-07-07T07:08:29.701644Z",
     "start_time": "2025-07-07T07:08:29.682823Z"
    }
   },
   "cell_type": "code",
   "source": "df.head()",
   "id": "be3a7f0208230d92",
   "outputs": [
    {
     "data": {
      "text/plain": [
       "       expid peakid  year  season  host            route1            route2  \\\n",
       "0  ANN260101   ANN2  1960       1     1  NW Ridge-W Ridge              None   \n",
       "1  ANN269301   ANN2  1969       3     1  NW Ridge-W Ridge              None   \n",
       "2  ANN273101   ANN2  1973       1     1    W Ridge-N Face              None   \n",
       "3  ANN278301   ANN2  1978       3     1    N Face-W Ridge              None   \n",
       "4  ANN279301   ANN2  1979       3     1    N Face-W Ridge  NW Ridge of A-IV   \n",
       "\n",
       "  route3 route4      nation  ...                           accidents  \\\n",
       "0   None   None          UK  ...                                None   \n",
       "1   None   None  Yugoslavia  ...  Draslar frostbitten hands and feet   \n",
       "2   None   None       Japan  ...                                None   \n",
       "3   None   None          UK  ...                                None   \n",
       "4   None   None          UK  ...                                None   \n",
       "\n",
       "  achievment  agency  comrte  stdrte  primrte primmem primref primid   chksum  \n",
       "0       None    None    None    None    False   False    None   None  2442047  \n",
       "1       None    None    None    None    False   False    None   None  2445501  \n",
       "2       None    None    None    None    False   False    None   None  2446797  \n",
       "3       None    None    None    None    False   False    None   None  2448822  \n",
       "4       None    None    None    None    False   False    None   None  2449204  \n",
       "\n",
       "[5 rows x 66 columns]"
      ],
      "text/html": [
       "<div>\n",
       "<style scoped>\n",
       "    .dataframe tbody tr th:only-of-type {\n",
       "        vertical-align: middle;\n",
       "    }\n",
       "\n",
       "    .dataframe tbody tr th {\n",
       "        vertical-align: top;\n",
       "    }\n",
       "\n",
       "    .dataframe thead th {\n",
       "        text-align: right;\n",
       "    }\n",
       "</style>\n",
       "<table border=\"1\" class=\"dataframe\">\n",
       "  <thead>\n",
       "    <tr style=\"text-align: right;\">\n",
       "      <th></th>\n",
       "      <th>expid</th>\n",
       "      <th>peakid</th>\n",
       "      <th>year</th>\n",
       "      <th>season</th>\n",
       "      <th>host</th>\n",
       "      <th>route1</th>\n",
       "      <th>route2</th>\n",
       "      <th>route3</th>\n",
       "      <th>route4</th>\n",
       "      <th>nation</th>\n",
       "      <th>...</th>\n",
       "      <th>accidents</th>\n",
       "      <th>achievment</th>\n",
       "      <th>agency</th>\n",
       "      <th>comrte</th>\n",
       "      <th>stdrte</th>\n",
       "      <th>primrte</th>\n",
       "      <th>primmem</th>\n",
       "      <th>primref</th>\n",
       "      <th>primid</th>\n",
       "      <th>chksum</th>\n",
       "    </tr>\n",
       "  </thead>\n",
       "  <tbody>\n",
       "    <tr>\n",
       "      <th>0</th>\n",
       "      <td>ANN260101</td>\n",
       "      <td>ANN2</td>\n",
       "      <td>1960</td>\n",
       "      <td>1</td>\n",
       "      <td>1</td>\n",
       "      <td>NW Ridge-W Ridge</td>\n",
       "      <td>None</td>\n",
       "      <td>None</td>\n",
       "      <td>None</td>\n",
       "      <td>UK</td>\n",
       "      <td>...</td>\n",
       "      <td>None</td>\n",
       "      <td>None</td>\n",
       "      <td>None</td>\n",
       "      <td>None</td>\n",
       "      <td>None</td>\n",
       "      <td>False</td>\n",
       "      <td>False</td>\n",
       "      <td>None</td>\n",
       "      <td>None</td>\n",
       "      <td>2442047</td>\n",
       "    </tr>\n",
       "    <tr>\n",
       "      <th>1</th>\n",
       "      <td>ANN269301</td>\n",
       "      <td>ANN2</td>\n",
       "      <td>1969</td>\n",
       "      <td>3</td>\n",
       "      <td>1</td>\n",
       "      <td>NW Ridge-W Ridge</td>\n",
       "      <td>None</td>\n",
       "      <td>None</td>\n",
       "      <td>None</td>\n",
       "      <td>Yugoslavia</td>\n",
       "      <td>...</td>\n",
       "      <td>Draslar frostbitten hands and feet</td>\n",
       "      <td>None</td>\n",
       "      <td>None</td>\n",
       "      <td>None</td>\n",
       "      <td>None</td>\n",
       "      <td>False</td>\n",
       "      <td>False</td>\n",
       "      <td>None</td>\n",
       "      <td>None</td>\n",
       "      <td>2445501</td>\n",
       "    </tr>\n",
       "    <tr>\n",
       "      <th>2</th>\n",
       "      <td>ANN273101</td>\n",
       "      <td>ANN2</td>\n",
       "      <td>1973</td>\n",
       "      <td>1</td>\n",
       "      <td>1</td>\n",
       "      <td>W Ridge-N Face</td>\n",
       "      <td>None</td>\n",
       "      <td>None</td>\n",
       "      <td>None</td>\n",
       "      <td>Japan</td>\n",
       "      <td>...</td>\n",
       "      <td>None</td>\n",
       "      <td>None</td>\n",
       "      <td>None</td>\n",
       "      <td>None</td>\n",
       "      <td>None</td>\n",
       "      <td>False</td>\n",
       "      <td>False</td>\n",
       "      <td>None</td>\n",
       "      <td>None</td>\n",
       "      <td>2446797</td>\n",
       "    </tr>\n",
       "    <tr>\n",
       "      <th>3</th>\n",
       "      <td>ANN278301</td>\n",
       "      <td>ANN2</td>\n",
       "      <td>1978</td>\n",
       "      <td>3</td>\n",
       "      <td>1</td>\n",
       "      <td>N Face-W Ridge</td>\n",
       "      <td>None</td>\n",
       "      <td>None</td>\n",
       "      <td>None</td>\n",
       "      <td>UK</td>\n",
       "      <td>...</td>\n",
       "      <td>None</td>\n",
       "      <td>None</td>\n",
       "      <td>None</td>\n",
       "      <td>None</td>\n",
       "      <td>None</td>\n",
       "      <td>False</td>\n",
       "      <td>False</td>\n",
       "      <td>None</td>\n",
       "      <td>None</td>\n",
       "      <td>2448822</td>\n",
       "    </tr>\n",
       "    <tr>\n",
       "      <th>4</th>\n",
       "      <td>ANN279301</td>\n",
       "      <td>ANN2</td>\n",
       "      <td>1979</td>\n",
       "      <td>3</td>\n",
       "      <td>1</td>\n",
       "      <td>N Face-W Ridge</td>\n",
       "      <td>NW Ridge of A-IV</td>\n",
       "      <td>None</td>\n",
       "      <td>None</td>\n",
       "      <td>UK</td>\n",
       "      <td>...</td>\n",
       "      <td>None</td>\n",
       "      <td>None</td>\n",
       "      <td>None</td>\n",
       "      <td>None</td>\n",
       "      <td>None</td>\n",
       "      <td>False</td>\n",
       "      <td>False</td>\n",
       "      <td>None</td>\n",
       "      <td>None</td>\n",
       "      <td>2449204</td>\n",
       "    </tr>\n",
       "  </tbody>\n",
       "</table>\n",
       "<p>5 rows × 66 columns</p>\n",
       "</div>"
      ]
     },
     "execution_count": 143,
     "metadata": {},
     "output_type": "execute_result"
    }
   ],
   "execution_count": 143
  },
  {
   "metadata": {},
   "cell_type": "markdown",
   "source": "### Primary key",
   "id": "89e3f6aa31a229c"
  },
  {
   "metadata": {
    "ExecuteTime": {
     "end_time": "2025-07-07T07:08:29.799941Z",
     "start_time": "2025-07-07T07:08:29.788652Z"
    }
   },
   "cell_type": "code",
   "source": "df.expid = df.expid.str.cat(df.year.astype(str), sep='_')",
   "id": "982bfedaff6abf1",
   "outputs": [],
   "execution_count": 144
  },
  {
   "metadata": {
    "ExecuteTime": {
     "end_time": "2025-07-07T07:08:29.916431Z",
     "start_time": "2025-07-07T07:08:29.895554Z"
    }
   },
   "cell_type": "code",
   "source": "df.head()",
   "id": "8adc8e1bf726af4b",
   "outputs": [
    {
     "data": {
      "text/plain": [
       "            expid peakid  year  season  host            route1  \\\n",
       "0  ANN260101_1960   ANN2  1960       1     1  NW Ridge-W Ridge   \n",
       "1  ANN269301_1969   ANN2  1969       3     1  NW Ridge-W Ridge   \n",
       "2  ANN273101_1973   ANN2  1973       1     1    W Ridge-N Face   \n",
       "3  ANN278301_1978   ANN2  1978       3     1    N Face-W Ridge   \n",
       "4  ANN279301_1979   ANN2  1979       3     1    N Face-W Ridge   \n",
       "\n",
       "             route2 route3 route4      nation  ...  \\\n",
       "0              None   None   None          UK  ...   \n",
       "1              None   None   None  Yugoslavia  ...   \n",
       "2              None   None   None       Japan  ...   \n",
       "3              None   None   None          UK  ...   \n",
       "4  NW Ridge of A-IV   None   None          UK  ...   \n",
       "\n",
       "                            accidents achievment  agency  comrte  stdrte  \\\n",
       "0                                None       None    None    None    None   \n",
       "1  Draslar frostbitten hands and feet       None    None    None    None   \n",
       "2                                None       None    None    None    None   \n",
       "3                                None       None    None    None    None   \n",
       "4                                None       None    None    None    None   \n",
       "\n",
       "   primrte primmem primref primid   chksum  \n",
       "0    False   False    None   None  2442047  \n",
       "1    False   False    None   None  2445501  \n",
       "2    False   False    None   None  2446797  \n",
       "3    False   False    None   None  2448822  \n",
       "4    False   False    None   None  2449204  \n",
       "\n",
       "[5 rows x 66 columns]"
      ],
      "text/html": [
       "<div>\n",
       "<style scoped>\n",
       "    .dataframe tbody tr th:only-of-type {\n",
       "        vertical-align: middle;\n",
       "    }\n",
       "\n",
       "    .dataframe tbody tr th {\n",
       "        vertical-align: top;\n",
       "    }\n",
       "\n",
       "    .dataframe thead th {\n",
       "        text-align: right;\n",
       "    }\n",
       "</style>\n",
       "<table border=\"1\" class=\"dataframe\">\n",
       "  <thead>\n",
       "    <tr style=\"text-align: right;\">\n",
       "      <th></th>\n",
       "      <th>expid</th>\n",
       "      <th>peakid</th>\n",
       "      <th>year</th>\n",
       "      <th>season</th>\n",
       "      <th>host</th>\n",
       "      <th>route1</th>\n",
       "      <th>route2</th>\n",
       "      <th>route3</th>\n",
       "      <th>route4</th>\n",
       "      <th>nation</th>\n",
       "      <th>...</th>\n",
       "      <th>accidents</th>\n",
       "      <th>achievment</th>\n",
       "      <th>agency</th>\n",
       "      <th>comrte</th>\n",
       "      <th>stdrte</th>\n",
       "      <th>primrte</th>\n",
       "      <th>primmem</th>\n",
       "      <th>primref</th>\n",
       "      <th>primid</th>\n",
       "      <th>chksum</th>\n",
       "    </tr>\n",
       "  </thead>\n",
       "  <tbody>\n",
       "    <tr>\n",
       "      <th>0</th>\n",
       "      <td>ANN260101_1960</td>\n",
       "      <td>ANN2</td>\n",
       "      <td>1960</td>\n",
       "      <td>1</td>\n",
       "      <td>1</td>\n",
       "      <td>NW Ridge-W Ridge</td>\n",
       "      <td>None</td>\n",
       "      <td>None</td>\n",
       "      <td>None</td>\n",
       "      <td>UK</td>\n",
       "      <td>...</td>\n",
       "      <td>None</td>\n",
       "      <td>None</td>\n",
       "      <td>None</td>\n",
       "      <td>None</td>\n",
       "      <td>None</td>\n",
       "      <td>False</td>\n",
       "      <td>False</td>\n",
       "      <td>None</td>\n",
       "      <td>None</td>\n",
       "      <td>2442047</td>\n",
       "    </tr>\n",
       "    <tr>\n",
       "      <th>1</th>\n",
       "      <td>ANN269301_1969</td>\n",
       "      <td>ANN2</td>\n",
       "      <td>1969</td>\n",
       "      <td>3</td>\n",
       "      <td>1</td>\n",
       "      <td>NW Ridge-W Ridge</td>\n",
       "      <td>None</td>\n",
       "      <td>None</td>\n",
       "      <td>None</td>\n",
       "      <td>Yugoslavia</td>\n",
       "      <td>...</td>\n",
       "      <td>Draslar frostbitten hands and feet</td>\n",
       "      <td>None</td>\n",
       "      <td>None</td>\n",
       "      <td>None</td>\n",
       "      <td>None</td>\n",
       "      <td>False</td>\n",
       "      <td>False</td>\n",
       "      <td>None</td>\n",
       "      <td>None</td>\n",
       "      <td>2445501</td>\n",
       "    </tr>\n",
       "    <tr>\n",
       "      <th>2</th>\n",
       "      <td>ANN273101_1973</td>\n",
       "      <td>ANN2</td>\n",
       "      <td>1973</td>\n",
       "      <td>1</td>\n",
       "      <td>1</td>\n",
       "      <td>W Ridge-N Face</td>\n",
       "      <td>None</td>\n",
       "      <td>None</td>\n",
       "      <td>None</td>\n",
       "      <td>Japan</td>\n",
       "      <td>...</td>\n",
       "      <td>None</td>\n",
       "      <td>None</td>\n",
       "      <td>None</td>\n",
       "      <td>None</td>\n",
       "      <td>None</td>\n",
       "      <td>False</td>\n",
       "      <td>False</td>\n",
       "      <td>None</td>\n",
       "      <td>None</td>\n",
       "      <td>2446797</td>\n",
       "    </tr>\n",
       "    <tr>\n",
       "      <th>3</th>\n",
       "      <td>ANN278301_1978</td>\n",
       "      <td>ANN2</td>\n",
       "      <td>1978</td>\n",
       "      <td>3</td>\n",
       "      <td>1</td>\n",
       "      <td>N Face-W Ridge</td>\n",
       "      <td>None</td>\n",
       "      <td>None</td>\n",
       "      <td>None</td>\n",
       "      <td>UK</td>\n",
       "      <td>...</td>\n",
       "      <td>None</td>\n",
       "      <td>None</td>\n",
       "      <td>None</td>\n",
       "      <td>None</td>\n",
       "      <td>None</td>\n",
       "      <td>False</td>\n",
       "      <td>False</td>\n",
       "      <td>None</td>\n",
       "      <td>None</td>\n",
       "      <td>2448822</td>\n",
       "    </tr>\n",
       "    <tr>\n",
       "      <th>4</th>\n",
       "      <td>ANN279301_1979</td>\n",
       "      <td>ANN2</td>\n",
       "      <td>1979</td>\n",
       "      <td>3</td>\n",
       "      <td>1</td>\n",
       "      <td>N Face-W Ridge</td>\n",
       "      <td>NW Ridge of A-IV</td>\n",
       "      <td>None</td>\n",
       "      <td>None</td>\n",
       "      <td>UK</td>\n",
       "      <td>...</td>\n",
       "      <td>None</td>\n",
       "      <td>None</td>\n",
       "      <td>None</td>\n",
       "      <td>None</td>\n",
       "      <td>None</td>\n",
       "      <td>False</td>\n",
       "      <td>False</td>\n",
       "      <td>None</td>\n",
       "      <td>None</td>\n",
       "      <td>2449204</td>\n",
       "    </tr>\n",
       "  </tbody>\n",
       "</table>\n",
       "<p>5 rows × 66 columns</p>\n",
       "</div>"
      ]
     },
     "execution_count": 145,
     "metadata": {},
     "output_type": "execute_result"
    }
   ],
   "execution_count": 145
  },
  {
   "metadata": {},
   "cell_type": "markdown",
   "source": [
    "### Expedition Countries\n",
    "#### Host"
   ],
   "id": "1ead9a24597db720"
  },
  {
   "metadata": {
    "ExecuteTime": {
     "end_time": "2025-07-07T07:08:30.055033Z",
     "start_time": "2025-07-07T07:08:30.026968Z"
    }
   },
   "cell_type": "code",
   "source": [
    "# replace documentation id mapping with custom mapping\n",
    "df.host = apply_map(df.host, host_map)\n",
    "df = update_country_list(df, 'host')"
   ],
   "id": "24a8976c6c85ae02",
   "outputs": [],
   "execution_count": 146
  },
  {
   "metadata": {},
   "cell_type": "markdown",
   "source": "#### Nation",
   "id": "88cfe57901b40"
  },
  {
   "metadata": {
    "ExecuteTime": {
     "end_time": "2025-07-07T07:08:30.198419Z",
     "start_time": "2025-07-07T07:08:30.170654Z"
    }
   },
   "cell_type": "code",
   "source": [
    "# explode slash-separated values into scalar names\n",
    "df_nations = df[['expid', 'nation']]\n",
    "df_nations.nation = df_nations.nation.str.split('/')\n",
    "df_nations = df_nations.explode('nation', ignore_index=True)"
   ],
   "id": "1f4b2a7611199f84",
   "outputs": [],
   "execution_count": 147
  },
  {
   "metadata": {
    "ExecuteTime": {
     "end_time": "2025-07-07T07:08:30.339285Z",
     "start_time": "2025-07-07T07:08:30.310182Z"
    }
   },
   "cell_type": "code",
   "source": [
    "# swap names with country ids\n",
    "df_nations = update_country_list(df_nations, 'nation')"
   ],
   "id": "85fbf12a2095d3c6",
   "outputs": [],
   "execution_count": 148
  },
  {
   "metadata": {},
   "cell_type": "markdown",
   "source": "#### Countries",
   "id": "a0f0e270ed9e7669"
  },
  {
   "metadata": {
    "ExecuteTime": {
     "end_time": "2025-07-07T07:08:30.384653Z",
     "start_time": "2025-07-07T07:08:30.375863Z"
    }
   },
   "cell_type": "code",
   "source": "df.countries.head()",
   "id": "648f55cf31f130a",
   "outputs": [
    {
     "data": {
      "text/plain": [
       "0    India, Nepal\n",
       "1            None\n",
       "2            None\n",
       "3            None\n",
       "4            None\n",
       "Name: countries, dtype: object"
      ]
     },
     "execution_count": 149,
     "metadata": {},
     "output_type": "execute_result"
    }
   ],
   "execution_count": 149
  },
  {
   "metadata": {
    "ExecuteTime": {
     "end_time": "2025-07-07T07:08:30.583440Z",
     "start_time": "2025-07-07T07:08:30.469252Z"
    }
   },
   "cell_type": "code",
   "source": [
    "# explode comma-separated country names into scalar values\n",
    "df_countries = df[['expid', 'countries']].rename({'countries': 'country'}, axis=1)\n",
    "\n",
    "df_countries.country = df_countries.country.str.split(',')\n",
    "df_countries = df_countries.explode('country', ignore_index=True)\n",
    "\n",
    "df_countries.country = df_countries.country.str.split('/')\n",
    "df_countries = df_countries.explode('country', ignore_index=True)"
   ],
   "id": "79ad721775bed2a9",
   "outputs": [],
   "execution_count": 150
  },
  {
   "metadata": {
    "ExecuteTime": {
     "end_time": "2025-07-07T07:08:30.670233Z",
     "start_time": "2025-07-07T07:08:30.661508Z"
    }
   },
   "cell_type": "code",
   "source": "df_countries.country.unique()",
   "id": "25d2890c9ff1f48b",
   "outputs": [
    {
     "data": {
      "text/plain": [
       "array(['India', ' Nepal', None, 'New Zealand', 'Nepal', 'USA', 'Austria',\n",
       "       ' Italy', ' Switzerland', 'UK', ' France', ' W Germany',\n",
       "       'Switzerland', 'France', 'Netherlands', 'Germany', ' Spain', ' UK',\n",
       "       ' USA', 'Australia', 'Ireland', ' Netherlands', 'Czechoslovakia',\n",
       "       'Canada', 'Belgium', ' Poland', 'Poland', 'China', 'Italy',\n",
       "       'W Germany', 'Spain', ' Canada', ' Denmark', 'Brazil', 'Iceland',\n",
       "       'Liechtenstein', 'Andorra', ' Ireland', 'Luxembourg', ' Mexico',\n",
       "       'Argentina', ' India', 'Mexico', ' Belgium', ' New Zealand',\n",
       "       ' Sweden', 'Sweden', 'Japan', 'Norway', 'S Korea', ' Germany',\n",
       "       ' Portugal', ' Czechoslovakia', 'Bulgaria', 'Ukraine', 'Finland',\n",
       "       ' Luxembourg', ' USSR', 'USSR', ' Norway', ' Hong Kong',\n",
       "       'Indonesia', 'Ecuador', ' Yugoslavia', ' Kenya', 'Denmark',\n",
       "       'Chile', 'S Africa', ' Israel', 'Kazakhstan', 'Croatia',\n",
       "       ' Bulgaria', 'N Korea', ' Latvia', ' Peru', 'Portugal', 'Georgia',\n",
       "       'Belarus', ' Slovenia', ' Finland', ' Russia', ' Venezuela',\n",
       "       'Bolivia', ' Kazakhstan', 'Czech Republic', ' Japan', ' Turkey',\n",
       "       'Peru', ' Romania', ' Bolivia', ' Indonesia', ' Guatemala',\n",
       "       ' S Africa', 'Taiwan', ' Macedonia', 'Slovakia', ' Iceland',\n",
       "       'Russia', 'Malaysia', 'Mongolia', ' Thailand', 'Singapore',\n",
       "       'Lithuania', ' Slovakia', 'Latvia', 'Estonia', ' Georgia', 'Kenya',\n",
       "       'Iran', 'Hong Kong', 'Armenia', ' Czech Republic',\n",
       "       'Bosnia-Herzegovina', ' Austria', ' Liechtenstein', 'Turkey',\n",
       "       ' Malaysia', ' China', 'Costa Rica', ' Australia', ' Argentina',\n",
       "       ' Chile', ' Rhodesia', 'Israel', 'Guatemala', ' Ecuador',\n",
       "       'Azerbaijan', ' Uzbekistan', 'Pakistan', 'Romania', ' Pakistan',\n",
       "       ' Hungary', 'Kuwait', 'Greece', ' Greece', 'Hungary', ' S Korea',\n",
       "       'Macedonia', 'Slovenia', 'San Marino', ' Kuwait', 'Bhutan',\n",
       "       ' Belarus', ' Ukraine', ' Lebanon', ' Lithuania',\n",
       "       'Kyrgyz Republic', 'Uzbekistan', 'Malta', 'Cyprus', '  Finland',\n",
       "       ' Singapore', ' Taiwan', ' Jordan', ' Panama', ' Brazil',\n",
       "       ' Philippines', 'Jordan', ' Colombia', 'Colombia', 'Egypt',\n",
       "       ' Bosnia-Herzegovina', ' Croatia', 'Algeria', 'Oman',\n",
       "       ' Saudi Arabia', ' Costa Rica', 'Thailand', 'Uruguay',\n",
       "       ' Montenegro', ' Iran', ' Moldova', 'Bangladesh', ' Malta',\n",
       "       ' Oman', ' Estonia', ' Dominican Republic', ' Palestine',\n",
       "       ' Mauritius', ' Nepal ', 'Montenegro', ' Cyprus', ' Tanzania',\n",
       "       ' UAE', 'Mauritius', 'Turkmenistan', ' Qatar', ' Morocco',\n",
       "       ' Myanmar', ' Serbia', ' Sri Lanka', ' Kyrgyz Republic',\n",
       "       ' Mongolia', ' Vietnam', ' Tunisia', 'Myanmar', ' Kosovo',\n",
       "       'Serbia', ' Paraguay', 'Kosovo', ' Canada Ecuador', ' Uruguay',\n",
       "       ' Syria', ' Egypt', 'Botswana', 'Lebanon', ' Nepal USA', 'Moldova',\n",
       "       ' Iraq', ' Azerbaijan', 'Tajikistan', 'Cuba', 'El Salvador',\n",
       "       'Libya', 'Qatar', ' El Salvador', ' Honduras', 'Honduras', 'Iraq',\n",
       "       ' Bangladesh', 'Panama', 'Morocco', 'Afghanistan', ' Cuba',\n",
       "       'Albania', 'Dominican Republic', ' Dominica', ' Mali',\n",
       "       ' France Greece'], dtype=object)"
      ]
     },
     "execution_count": 151,
     "metadata": {},
     "output_type": "execute_result"
    }
   ],
   "execution_count": 151
  },
  {
   "metadata": {
    "ExecuteTime": {
     "end_time": "2025-07-07T07:08:30.749112Z",
     "start_time": "2025-07-07T07:08:30.721054Z"
    }
   },
   "cell_type": "code",
   "source": [
    "# swap names with country ids\n",
    "df_countries = update_country_list(df_countries, 'country')"
   ],
   "id": "defb41803c7bda6e",
   "outputs": [],
   "execution_count": 152
  },
  {
   "metadata": {
    "ExecuteTime": {
     "end_time": "2025-07-07T07:08:30.795091Z",
     "start_time": "2025-07-07T07:08:30.779617Z"
    }
   },
   "cell_type": "code",
   "source": "df.drop('countries', axis=1, inplace=True)",
   "id": "c7e14b2683019ade",
   "outputs": [],
   "execution_count": 153
  },
  {
   "metadata": {},
   "cell_type": "markdown",
   "source": "### Routes",
   "id": "6b78a28897461028"
  },
  {
   "metadata": {
    "ExecuteTime": {
     "end_time": "2025-07-07T07:08:30.868913Z",
     "start_time": "2025-07-07T07:08:30.832168Z"
    }
   },
   "cell_type": "code",
   "source": [
    "route_1_df = df.loc[\n",
    "\tdf.route1.notna() | df.success1.notna() | df.ascent1.notna(),\n",
    "\t['expid', 'route1', 'ascent1', 'success1']\n",
    "]\n",
    "route_1_df.rename({'route1': 'route', 'ascent1': 'ascent', 'success1': 'success'}, axis=1, inplace=True)\n",
    "route_1_df['number'] = 1"
   ],
   "id": "dba7f9505e24b7ea",
   "outputs": [],
   "execution_count": 154
  },
  {
   "metadata": {
    "ExecuteTime": {
     "end_time": "2025-07-07T07:08:30.907944Z",
     "start_time": "2025-07-07T07:08:30.898476Z"
    }
   },
   "cell_type": "code",
   "source": [
    "route_2_df = df.loc[\n",
    "\tdf.route2.notna() | df.success2.notna() | df.ascent2.notna(),\n",
    "\t['expid', 'route2', 'ascent2', 'success2']\n",
    "]\n",
    "route_2_df.rename({'route2': 'route', 'ascent2': 'ascent', 'success2': 'success'}, axis=1, inplace=True)\n",
    "route_2_df['number'] = 2"
   ],
   "id": "784f7592adcf739a",
   "outputs": [],
   "execution_count": 155
  },
  {
   "metadata": {
    "ExecuteTime": {
     "end_time": "2025-07-07T07:08:30.944727Z",
     "start_time": "2025-07-07T07:08:30.935516Z"
    }
   },
   "cell_type": "code",
   "source": [
    "route_3_df = df.loc[\n",
    "\tdf.route3.notna() | df.success3.notna() | df.ascent3.notna(),\n",
    "\t['expid', 'route3', 'ascent3', 'success3']\n",
    "]\n",
    "route_3_df.rename({'route3': 'route', 'ascent3': 'ascent', 'success3': 'success'}, axis=1, inplace=True)\n",
    "route_3_df['number'] = 3"
   ],
   "id": "4872937bea611d41",
   "outputs": [],
   "execution_count": 156
  },
  {
   "metadata": {
    "ExecuteTime": {
     "end_time": "2025-07-07T07:08:30.983674Z",
     "start_time": "2025-07-07T07:08:30.975103Z"
    }
   },
   "cell_type": "code",
   "source": [
    "route_4_df = df.loc[\n",
    "\tdf.route4.notna() | df.success4.notna() | df.ascent4.notna(),\n",
    "\t['expid', 'route4', 'ascent4', 'success4']\n",
    "]\n",
    "route_4_df.rename({'route4': 'route', 'ascent4': 'ascent', 'success4': 'success'}, axis=1, inplace=True)\n",
    "route_4_df['number'] = 4"
   ],
   "id": "3f40ddbba34e621b",
   "outputs": [],
   "execution_count": 157
  },
  {
   "metadata": {
    "ExecuteTime": {
     "end_time": "2025-07-07T07:08:31.027488Z",
     "start_time": "2025-07-07T07:08:31.020063Z"
    }
   },
   "cell_type": "code",
   "source": "df_routes = pd.concat([route_1_df, route_2_df, route_3_df, route_4_df], ignore_index=True)",
   "id": "267f74159277881f",
   "outputs": [],
   "execution_count": 158
  },
  {
   "metadata": {
    "ExecuteTime": {
     "end_time": "2025-07-07T07:08:31.077713Z",
     "start_time": "2025-07-07T07:08:31.066417Z"
    }
   },
   "cell_type": "code",
   "source": "df_routes.head()",
   "id": "940809dadbd8f9e",
   "outputs": [
    {
     "data": {
      "text/plain": [
       "            expid             route ascent  success  number\n",
       "0  ANN260101_1960  NW Ridge-W Ridge    1st     True       1\n",
       "1  ANN269301_1969  NW Ridge-W Ridge    2nd     True       1\n",
       "2  ANN273101_1973    W Ridge-N Face    3rd     True       1\n",
       "3  ANN278301_1978    N Face-W Ridge   None    False       1\n",
       "4  ANN279301_1979    N Face-W Ridge   None    False       1"
      ],
      "text/html": [
       "<div>\n",
       "<style scoped>\n",
       "    .dataframe tbody tr th:only-of-type {\n",
       "        vertical-align: middle;\n",
       "    }\n",
       "\n",
       "    .dataframe tbody tr th {\n",
       "        vertical-align: top;\n",
       "    }\n",
       "\n",
       "    .dataframe thead th {\n",
       "        text-align: right;\n",
       "    }\n",
       "</style>\n",
       "<table border=\"1\" class=\"dataframe\">\n",
       "  <thead>\n",
       "    <tr style=\"text-align: right;\">\n",
       "      <th></th>\n",
       "      <th>expid</th>\n",
       "      <th>route</th>\n",
       "      <th>ascent</th>\n",
       "      <th>success</th>\n",
       "      <th>number</th>\n",
       "    </tr>\n",
       "  </thead>\n",
       "  <tbody>\n",
       "    <tr>\n",
       "      <th>0</th>\n",
       "      <td>ANN260101_1960</td>\n",
       "      <td>NW Ridge-W Ridge</td>\n",
       "      <td>1st</td>\n",
       "      <td>True</td>\n",
       "      <td>1</td>\n",
       "    </tr>\n",
       "    <tr>\n",
       "      <th>1</th>\n",
       "      <td>ANN269301_1969</td>\n",
       "      <td>NW Ridge-W Ridge</td>\n",
       "      <td>2nd</td>\n",
       "      <td>True</td>\n",
       "      <td>1</td>\n",
       "    </tr>\n",
       "    <tr>\n",
       "      <th>2</th>\n",
       "      <td>ANN273101_1973</td>\n",
       "      <td>W Ridge-N Face</td>\n",
       "      <td>3rd</td>\n",
       "      <td>True</td>\n",
       "      <td>1</td>\n",
       "    </tr>\n",
       "    <tr>\n",
       "      <th>3</th>\n",
       "      <td>ANN278301_1978</td>\n",
       "      <td>N Face-W Ridge</td>\n",
       "      <td>None</td>\n",
       "      <td>False</td>\n",
       "      <td>1</td>\n",
       "    </tr>\n",
       "    <tr>\n",
       "      <th>4</th>\n",
       "      <td>ANN279301_1979</td>\n",
       "      <td>N Face-W Ridge</td>\n",
       "      <td>None</td>\n",
       "      <td>False</td>\n",
       "      <td>1</td>\n",
       "    </tr>\n",
       "  </tbody>\n",
       "</table>\n",
       "</div>"
      ]
     },
     "execution_count": 159,
     "metadata": {},
     "output_type": "execute_result"
    }
   ],
   "execution_count": 159
  },
  {
   "metadata": {},
   "cell_type": "code",
   "outputs": [],
   "execution_count": null,
   "source": "# TODO: drop route columnbs from main df",
   "id": "c59d4c2b904b8928"
  }
 ],
 "metadata": {
  "kernelspec": {
   "display_name": "Python 3",
   "language": "python",
   "name": "python3"
  },
  "language_info": {
   "codemirror_mode": {
    "name": "ipython",
    "version": 2
   },
   "file_extension": ".py",
   "mimetype": "text/x-python",
   "name": "python",
   "nbconvert_exporter": "python",
   "pygments_lexer": "ipython2",
   "version": "2.7.6"
  }
 },
 "nbformat": 4,
 "nbformat_minor": 5
}
