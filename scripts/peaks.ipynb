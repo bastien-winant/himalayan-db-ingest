{
 "cells": [
  {
   "metadata": {
    "ExecuteTime": {
     "end_time": "2025-07-04T21:44:46.346865Z",
     "start_time": "2025-07-04T21:44:46.342003Z"
    }
   },
   "cell_type": "code",
   "source": [
    "import pandas as pd\n",
    "from utils import *\n",
    "from mappings import *"
   ],
   "id": "7a0cbf99b724369c",
   "outputs": [],
   "execution_count": 18
  },
  {
   "metadata": {
    "ExecuteTime": {
     "end_time": "2025-07-04T21:44:46.420836Z",
     "start_time": "2025-07-04T21:44:46.376585Z"
    }
   },
   "cell_type": "code",
   "source": "df = read_dbf('../data/raw/peaks.DBF')",
   "id": "1ac6be05789c150c",
   "outputs": [],
   "execution_count": 19
  },
  {
   "metadata": {
    "ExecuteTime": {
     "end_time": "2025-07-04T21:44:46.470320Z",
     "start_time": "2025-07-04T21:44:46.450822Z"
    }
   },
   "cell_type": "code",
   "source": "df.head()",
   "id": "29d425c561ae35bc",
   "outputs": [
    {
     "data": {
      "text/plain": [
       "  peakid         pkname        pkname2                        location  \\\n",
       "0   AMAD     Ama Dablam   Amai Dablang                    Khumbu Himal   \n",
       "1   AMPG  Amphu Gyabjen  Amphu Gyabien  Khumbu Himal (N of Ama Dablam)   \n",
       "2   ANN1    Annapurna I           None                 Annapurna Himal   \n",
       "3   ANN2   Annapurna II           None                 Annapurna Himal   \n",
       "4   ANN3  Annapurna III           None                 Annapurna Himal   \n",
       "\n",
       "   heightm  heightf  himal  region  open  unlisted  ...  \\\n",
       "0     6814    22356     12       2  True     False  ...   \n",
       "1     5630    18471     12       2  True     False  ...   \n",
       "2     8091    26545      1       5  True     False  ...   \n",
       "3     7937    26040      1       5  True     False  ...   \n",
       "4     7555    24787      1       5  True     False  ...   \n",
       "\n",
       "                                            peakmemo pyear pseason     pexpid  \\\n",
       "0  Other map altitudes:\\r\\n   6814m - HMG-MT, HMG...  1961       1  AMAD61101   \n",
       "1  Other map altitudes:\\r\\n   5630m - HMG-Finn, N...  1953       1  AMPG53101   \n",
       "2  Other map altitudes:\\r\\n   8091m - HMG-MT, HMG...  1950       1  ANN150101   \n",
       "3  Other map altitudes:\\r\\n   7937m - HMG-MT, HMG...  1960       1  ANN260101   \n",
       "4  Other map altitudes:\\r\\n   7555m - HMG-MT, HMG...  1961       1  ANN361101   \n",
       "\n",
       "   psmtdate              pcountry  \\\n",
       "0    Mar 13  New Zealand, USA, UK   \n",
       "1    Apr 11                    UK   \n",
       "2    Jun 03                France   \n",
       "3    May 17             UK, Nepal   \n",
       "4    May 06                 India   \n",
       "\n",
       "                                          psummiters  psmtnote  \\\n",
       "0  Mike Gill, Wally Romanes, Barry Bishop, Michae...      None   \n",
       "1                          John Hunt, Tom Bourdillon      None   \n",
       "2                     Maurice Herzog, Louis Lachenal      None   \n",
       "3   Richard Grant, Chris Bonington, Ang Nyima Sherpa      None   \n",
       "4          Mohan S. Kohli, Sonam Gyatso, Sonam Girmi      None   \n",
       "\n",
       "                                           refermemo  \\\n",
       "0                                               None   \n",
       "1                                               None   \n",
       "2  Dyhrenfurth history 1950-1977 (MM 58:44-47 Nov...   \n",
       "3  Dyhrenfurth history 1960-1976 (MM 51:36-37 Sep...   \n",
       "4                                               None   \n",
       "\n",
       "                                           photomemo  \n",
       "0  W Face (High 126:5 May 1993)\\r\\nSE Face (High ...  \n",
       "1                                               None  \n",
       "2  S Face (High 122:3 Jan 1993) (Beghin accident)...  \n",
       "3                         N Face (MM 51:36 Sep 1976)  \n",
       "4  S Side (MM 125:11 Jan 1989)\\r\\nSW Face (MM 71:...  \n",
       "\n",
       "[5 rows x 25 columns]"
      ],
      "text/html": [
       "<div>\n",
       "<style scoped>\n",
       "    .dataframe tbody tr th:only-of-type {\n",
       "        vertical-align: middle;\n",
       "    }\n",
       "\n",
       "    .dataframe tbody tr th {\n",
       "        vertical-align: top;\n",
       "    }\n",
       "\n",
       "    .dataframe thead th {\n",
       "        text-align: right;\n",
       "    }\n",
       "</style>\n",
       "<table border=\"1\" class=\"dataframe\">\n",
       "  <thead>\n",
       "    <tr style=\"text-align: right;\">\n",
       "      <th></th>\n",
       "      <th>peakid</th>\n",
       "      <th>pkname</th>\n",
       "      <th>pkname2</th>\n",
       "      <th>location</th>\n",
       "      <th>heightm</th>\n",
       "      <th>heightf</th>\n",
       "      <th>himal</th>\n",
       "      <th>region</th>\n",
       "      <th>open</th>\n",
       "      <th>unlisted</th>\n",
       "      <th>...</th>\n",
       "      <th>peakmemo</th>\n",
       "      <th>pyear</th>\n",
       "      <th>pseason</th>\n",
       "      <th>pexpid</th>\n",
       "      <th>psmtdate</th>\n",
       "      <th>pcountry</th>\n",
       "      <th>psummiters</th>\n",
       "      <th>psmtnote</th>\n",
       "      <th>refermemo</th>\n",
       "      <th>photomemo</th>\n",
       "    </tr>\n",
       "  </thead>\n",
       "  <tbody>\n",
       "    <tr>\n",
       "      <th>0</th>\n",
       "      <td>AMAD</td>\n",
       "      <td>Ama Dablam</td>\n",
       "      <td>Amai Dablang</td>\n",
       "      <td>Khumbu Himal</td>\n",
       "      <td>6814</td>\n",
       "      <td>22356</td>\n",
       "      <td>12</td>\n",
       "      <td>2</td>\n",
       "      <td>True</td>\n",
       "      <td>False</td>\n",
       "      <td>...</td>\n",
       "      <td>Other map altitudes:\\r\\n   6814m - HMG-MT, HMG...</td>\n",
       "      <td>1961</td>\n",
       "      <td>1</td>\n",
       "      <td>AMAD61101</td>\n",
       "      <td>Mar 13</td>\n",
       "      <td>New Zealand, USA, UK</td>\n",
       "      <td>Mike Gill, Wally Romanes, Barry Bishop, Michae...</td>\n",
       "      <td>None</td>\n",
       "      <td>None</td>\n",
       "      <td>W Face (High 126:5 May 1993)\\r\\nSE Face (High ...</td>\n",
       "    </tr>\n",
       "    <tr>\n",
       "      <th>1</th>\n",
       "      <td>AMPG</td>\n",
       "      <td>Amphu Gyabjen</td>\n",
       "      <td>Amphu Gyabien</td>\n",
       "      <td>Khumbu Himal (N of Ama Dablam)</td>\n",
       "      <td>5630</td>\n",
       "      <td>18471</td>\n",
       "      <td>12</td>\n",
       "      <td>2</td>\n",
       "      <td>True</td>\n",
       "      <td>False</td>\n",
       "      <td>...</td>\n",
       "      <td>Other map altitudes:\\r\\n   5630m - HMG-Finn, N...</td>\n",
       "      <td>1953</td>\n",
       "      <td>1</td>\n",
       "      <td>AMPG53101</td>\n",
       "      <td>Apr 11</td>\n",
       "      <td>UK</td>\n",
       "      <td>John Hunt, Tom Bourdillon</td>\n",
       "      <td>None</td>\n",
       "      <td>None</td>\n",
       "      <td>None</td>\n",
       "    </tr>\n",
       "    <tr>\n",
       "      <th>2</th>\n",
       "      <td>ANN1</td>\n",
       "      <td>Annapurna I</td>\n",
       "      <td>None</td>\n",
       "      <td>Annapurna Himal</td>\n",
       "      <td>8091</td>\n",
       "      <td>26545</td>\n",
       "      <td>1</td>\n",
       "      <td>5</td>\n",
       "      <td>True</td>\n",
       "      <td>False</td>\n",
       "      <td>...</td>\n",
       "      <td>Other map altitudes:\\r\\n   8091m - HMG-MT, HMG...</td>\n",
       "      <td>1950</td>\n",
       "      <td>1</td>\n",
       "      <td>ANN150101</td>\n",
       "      <td>Jun 03</td>\n",
       "      <td>France</td>\n",
       "      <td>Maurice Herzog, Louis Lachenal</td>\n",
       "      <td>None</td>\n",
       "      <td>Dyhrenfurth history 1950-1977 (MM 58:44-47 Nov...</td>\n",
       "      <td>S Face (High 122:3 Jan 1993) (Beghin accident)...</td>\n",
       "    </tr>\n",
       "    <tr>\n",
       "      <th>3</th>\n",
       "      <td>ANN2</td>\n",
       "      <td>Annapurna II</td>\n",
       "      <td>None</td>\n",
       "      <td>Annapurna Himal</td>\n",
       "      <td>7937</td>\n",
       "      <td>26040</td>\n",
       "      <td>1</td>\n",
       "      <td>5</td>\n",
       "      <td>True</td>\n",
       "      <td>False</td>\n",
       "      <td>...</td>\n",
       "      <td>Other map altitudes:\\r\\n   7937m - HMG-MT, HMG...</td>\n",
       "      <td>1960</td>\n",
       "      <td>1</td>\n",
       "      <td>ANN260101</td>\n",
       "      <td>May 17</td>\n",
       "      <td>UK, Nepal</td>\n",
       "      <td>Richard Grant, Chris Bonington, Ang Nyima Sherpa</td>\n",
       "      <td>None</td>\n",
       "      <td>Dyhrenfurth history 1960-1976 (MM 51:36-37 Sep...</td>\n",
       "      <td>N Face (MM 51:36 Sep 1976)</td>\n",
       "    </tr>\n",
       "    <tr>\n",
       "      <th>4</th>\n",
       "      <td>ANN3</td>\n",
       "      <td>Annapurna III</td>\n",
       "      <td>None</td>\n",
       "      <td>Annapurna Himal</td>\n",
       "      <td>7555</td>\n",
       "      <td>24787</td>\n",
       "      <td>1</td>\n",
       "      <td>5</td>\n",
       "      <td>True</td>\n",
       "      <td>False</td>\n",
       "      <td>...</td>\n",
       "      <td>Other map altitudes:\\r\\n   7555m - HMG-MT, HMG...</td>\n",
       "      <td>1961</td>\n",
       "      <td>1</td>\n",
       "      <td>ANN361101</td>\n",
       "      <td>May 06</td>\n",
       "      <td>India</td>\n",
       "      <td>Mohan S. Kohli, Sonam Gyatso, Sonam Girmi</td>\n",
       "      <td>None</td>\n",
       "      <td>None</td>\n",
       "      <td>S Side (MM 125:11 Jan 1989)\\r\\nSW Face (MM 71:...</td>\n",
       "    </tr>\n",
       "  </tbody>\n",
       "</table>\n",
       "<p>5 rows × 25 columns</p>\n",
       "</div>"
      ]
     },
     "execution_count": 20,
     "metadata": {},
     "output_type": "execute_result"
    }
   ],
   "execution_count": 20
  },
  {
   "metadata": {},
   "cell_type": "markdown",
   "source": "### Mountains and Regions",
   "id": "d66721021f9e32bc"
  },
  {
   "metadata": {
    "ExecuteTime": {
     "end_time": "2025-07-04T21:44:46.582153Z",
     "start_time": "2025-07-04T21:44:46.576262Z"
    }
   },
   "cell_type": "code",
   "source": [
    "df_mountains = pd.DataFrame.from_dict(himal_map, orient='index', columns=['name']).reset_index(names='id')\n",
    "df_regions = pd.DataFrame.from_dict(region_map, orient='index', columns=['name']).reset_index(names='id')"
   ],
   "id": "490f25a6105eeb32",
   "outputs": [],
   "execution_count": 21
  },
  {
   "metadata": {},
   "cell_type": "markdown",
   "source": "### Hosts",
   "id": "c51501928d059a38"
  },
  {
   "metadata": {
    "ExecuteTime": {
     "end_time": "2025-07-04T21:44:46.686258Z",
     "start_time": "2025-07-04T21:44:46.680Z"
    }
   },
   "cell_type": "code",
   "source": [
    "df['host'] = apply_map(df.phost, host_map)\n",
    "df.drop('phost', axis=1, inplace=True)"
   ],
   "id": "2be543de0ba25f67",
   "outputs": [],
   "execution_count": 22
  },
  {
   "metadata": {
    "ExecuteTime": {
     "end_time": "2025-07-04T21:44:46.765076Z",
     "start_time": "2025-07-04T21:44:46.753158Z"
    }
   },
   "cell_type": "code",
   "source": [
    "df_peak_hosts = df[['peakid', 'host']]\n",
    "df_peak_hosts.loc[:, 'host'] = df_peak_hosts.host.str.split(';')\n",
    "df_peak_hosts = df_peak_hosts.explode('host')"
   ],
   "id": "c777d7a8d7f32711",
   "outputs": [],
   "execution_count": 23
  },
  {
   "metadata": {
    "ExecuteTime": {
     "end_time": "2025-07-04T21:44:46.825260Z",
     "start_time": "2025-07-04T21:44:46.809042Z"
    }
   },
   "cell_type": "code",
   "source": "df_peak_hosts = update_country_list(df_peak_hosts, 'host')",
   "id": "953719e82bdd39e1",
   "outputs": [],
   "execution_count": 24
  },
  {
   "metadata": {
    "ExecuteTime": {
     "end_time": "2025-07-04T21:44:46.892621Z",
     "start_time": "2025-07-04T21:44:46.874358Z"
    }
   },
   "cell_type": "code",
   "source": "df_peak_hosts.head()",
   "id": "b2238b6aa1296c07",
   "outputs": [
    {
     "data": {
      "text/plain": [
       "  peakid  host_id\n",
       "0   AMAD      NaN\n",
       "1   AMPG      NaN\n",
       "2   ANN1      NaN\n",
       "3   ANN2      NaN\n",
       "4   ANN3      NaN"
      ],
      "text/html": [
       "<div>\n",
       "<style scoped>\n",
       "    .dataframe tbody tr th:only-of-type {\n",
       "        vertical-align: middle;\n",
       "    }\n",
       "\n",
       "    .dataframe tbody tr th {\n",
       "        vertical-align: top;\n",
       "    }\n",
       "\n",
       "    .dataframe thead th {\n",
       "        text-align: right;\n",
       "    }\n",
       "</style>\n",
       "<table border=\"1\" class=\"dataframe\">\n",
       "  <thead>\n",
       "    <tr style=\"text-align: right;\">\n",
       "      <th></th>\n",
       "      <th>peakid</th>\n",
       "      <th>host_id</th>\n",
       "    </tr>\n",
       "  </thead>\n",
       "  <tbody>\n",
       "    <tr>\n",
       "      <th>0</th>\n",
       "      <td>AMAD</td>\n",
       "      <td>NaN</td>\n",
       "    </tr>\n",
       "    <tr>\n",
       "      <th>1</th>\n",
       "      <td>AMPG</td>\n",
       "      <td>NaN</td>\n",
       "    </tr>\n",
       "    <tr>\n",
       "      <th>2</th>\n",
       "      <td>ANN1</td>\n",
       "      <td>NaN</td>\n",
       "    </tr>\n",
       "    <tr>\n",
       "      <th>3</th>\n",
       "      <td>ANN2</td>\n",
       "      <td>NaN</td>\n",
       "    </tr>\n",
       "    <tr>\n",
       "      <th>4</th>\n",
       "      <td>ANN3</td>\n",
       "      <td>NaN</td>\n",
       "    </tr>\n",
       "  </tbody>\n",
       "</table>\n",
       "</div>"
      ]
     },
     "execution_count": 25,
     "metadata": {},
     "output_type": "execute_result"
    }
   ],
   "execution_count": 25
  },
  {
   "metadata": {
    "ExecuteTime": {
     "end_time": "2025-07-04T21:44:47.015569Z",
     "start_time": "2025-07-04T21:44:47.006425Z"
    }
   },
   "cell_type": "code",
   "source": [
    "df.drop(\n",
    "\t['peakmemo', 'pyear', 'pseason', 'pexpid', 'psmtdate', 'pcountry', 'psummiters', 'psmtnote', 'heightf', 'host'],\n",
    "\taxis=1, inplace=True)"
   ],
   "id": "8cdb8fb426e71bb4",
   "outputs": [],
   "execution_count": 26
  },
  {
   "metadata": {},
   "cell_type": "markdown",
   "source": "### Locations",
   "id": "4c813b7e91978f3d"
  },
  {
   "metadata": {
    "ExecuteTime": {
     "end_time": "2025-07-04T21:44:47.124489Z",
     "start_time": "2025-07-04T21:44:47.115648Z"
    }
   },
   "cell_type": "code",
   "source": [
    "locations_df = df[['location']]\\\n",
    "\t.drop_duplicates(ignore_index=True)\\\n",
    "\t.rename({'location': 'name'}, axis=1)\\\n",
    "\t.reset_index(names='id')"
   ],
   "id": "2223a913e7d5812d",
   "outputs": [],
   "execution_count": 27
  },
  {
   "metadata": {
    "ExecuteTime": {
     "end_time": "2025-07-04T21:44:47.188193Z",
     "start_time": "2025-07-04T21:44:47.180145Z"
    }
   },
   "cell_type": "code",
   "source": [
    "df = df.merge(locations_df, how='left', left_on='location', right_on='name')\\\n",
    "\t.rename({'id': 'location_id'}, axis=1)\\\n",
    "\t.drop(['location', 'name'], axis=1)"
   ],
   "id": "8abb58ca93a95a0b",
   "outputs": [],
   "execution_count": 28
  },
  {
   "metadata": {
    "ExecuteTime": {
     "end_time": "2025-07-04T21:44:47.232556Z",
     "start_time": "2025-07-04T21:44:47.216438Z"
    }
   },
   "cell_type": "code",
   "source": "df.head()",
   "id": "e829de74f9b8186f",
   "outputs": [
    {
     "data": {
      "text/plain": [
       "  peakid         pkname        pkname2  heightm  himal  region  open  \\\n",
       "0   AMAD     Ama Dablam   Amai Dablang     6814     12       2  True   \n",
       "1   AMPG  Amphu Gyabjen  Amphu Gyabien     5630     12       2  True   \n",
       "2   ANN1    Annapurna I           None     8091      1       5  True   \n",
       "3   ANN2   Annapurna II           None     7937      1       5  True   \n",
       "4   ANN3  Annapurna III           None     7555      1       5  True   \n",
       "\n",
       "   unlisted  trekking trekyear        restrict  pstatus  \\\n",
       "0     False     False     None            None        2   \n",
       "1     False     False     None  Opened in 2002        2   \n",
       "2     False     False     None            None        2   \n",
       "3     False     False     None            None        2   \n",
       "4     False     False     None            None        2   \n",
       "\n",
       "                                           refermemo  \\\n",
       "0                                               None   \n",
       "1                                               None   \n",
       "2  Dyhrenfurth history 1950-1977 (MM 58:44-47 Nov...   \n",
       "3  Dyhrenfurth history 1960-1976 (MM 51:36-37 Sep...   \n",
       "4                                               None   \n",
       "\n",
       "                                           photomemo  location_id  \n",
       "0  W Face (High 126:5 May 1993)\\r\\nSE Face (High ...            0  \n",
       "1                                               None            1  \n",
       "2  S Face (High 122:3 Jan 1993) (Beghin accident)...            2  \n",
       "3                         N Face (MM 51:36 Sep 1976)            2  \n",
       "4  S Side (MM 125:11 Jan 1989)\\r\\nSW Face (MM 71:...            2  "
      ],
      "text/html": [
       "<div>\n",
       "<style scoped>\n",
       "    .dataframe tbody tr th:only-of-type {\n",
       "        vertical-align: middle;\n",
       "    }\n",
       "\n",
       "    .dataframe tbody tr th {\n",
       "        vertical-align: top;\n",
       "    }\n",
       "\n",
       "    .dataframe thead th {\n",
       "        text-align: right;\n",
       "    }\n",
       "</style>\n",
       "<table border=\"1\" class=\"dataframe\">\n",
       "  <thead>\n",
       "    <tr style=\"text-align: right;\">\n",
       "      <th></th>\n",
       "      <th>peakid</th>\n",
       "      <th>pkname</th>\n",
       "      <th>pkname2</th>\n",
       "      <th>heightm</th>\n",
       "      <th>himal</th>\n",
       "      <th>region</th>\n",
       "      <th>open</th>\n",
       "      <th>unlisted</th>\n",
       "      <th>trekking</th>\n",
       "      <th>trekyear</th>\n",
       "      <th>restrict</th>\n",
       "      <th>pstatus</th>\n",
       "      <th>refermemo</th>\n",
       "      <th>photomemo</th>\n",
       "      <th>location_id</th>\n",
       "    </tr>\n",
       "  </thead>\n",
       "  <tbody>\n",
       "    <tr>\n",
       "      <th>0</th>\n",
       "      <td>AMAD</td>\n",
       "      <td>Ama Dablam</td>\n",
       "      <td>Amai Dablang</td>\n",
       "      <td>6814</td>\n",
       "      <td>12</td>\n",
       "      <td>2</td>\n",
       "      <td>True</td>\n",
       "      <td>False</td>\n",
       "      <td>False</td>\n",
       "      <td>None</td>\n",
       "      <td>None</td>\n",
       "      <td>2</td>\n",
       "      <td>None</td>\n",
       "      <td>W Face (High 126:5 May 1993)\\r\\nSE Face (High ...</td>\n",
       "      <td>0</td>\n",
       "    </tr>\n",
       "    <tr>\n",
       "      <th>1</th>\n",
       "      <td>AMPG</td>\n",
       "      <td>Amphu Gyabjen</td>\n",
       "      <td>Amphu Gyabien</td>\n",
       "      <td>5630</td>\n",
       "      <td>12</td>\n",
       "      <td>2</td>\n",
       "      <td>True</td>\n",
       "      <td>False</td>\n",
       "      <td>False</td>\n",
       "      <td>None</td>\n",
       "      <td>Opened in 2002</td>\n",
       "      <td>2</td>\n",
       "      <td>None</td>\n",
       "      <td>None</td>\n",
       "      <td>1</td>\n",
       "    </tr>\n",
       "    <tr>\n",
       "      <th>2</th>\n",
       "      <td>ANN1</td>\n",
       "      <td>Annapurna I</td>\n",
       "      <td>None</td>\n",
       "      <td>8091</td>\n",
       "      <td>1</td>\n",
       "      <td>5</td>\n",
       "      <td>True</td>\n",
       "      <td>False</td>\n",
       "      <td>False</td>\n",
       "      <td>None</td>\n",
       "      <td>None</td>\n",
       "      <td>2</td>\n",
       "      <td>Dyhrenfurth history 1950-1977 (MM 58:44-47 Nov...</td>\n",
       "      <td>S Face (High 122:3 Jan 1993) (Beghin accident)...</td>\n",
       "      <td>2</td>\n",
       "    </tr>\n",
       "    <tr>\n",
       "      <th>3</th>\n",
       "      <td>ANN2</td>\n",
       "      <td>Annapurna II</td>\n",
       "      <td>None</td>\n",
       "      <td>7937</td>\n",
       "      <td>1</td>\n",
       "      <td>5</td>\n",
       "      <td>True</td>\n",
       "      <td>False</td>\n",
       "      <td>False</td>\n",
       "      <td>None</td>\n",
       "      <td>None</td>\n",
       "      <td>2</td>\n",
       "      <td>Dyhrenfurth history 1960-1976 (MM 51:36-37 Sep...</td>\n",
       "      <td>N Face (MM 51:36 Sep 1976)</td>\n",
       "      <td>2</td>\n",
       "    </tr>\n",
       "    <tr>\n",
       "      <th>4</th>\n",
       "      <td>ANN3</td>\n",
       "      <td>Annapurna III</td>\n",
       "      <td>None</td>\n",
       "      <td>7555</td>\n",
       "      <td>1</td>\n",
       "      <td>5</td>\n",
       "      <td>True</td>\n",
       "      <td>False</td>\n",
       "      <td>False</td>\n",
       "      <td>None</td>\n",
       "      <td>None</td>\n",
       "      <td>2</td>\n",
       "      <td>None</td>\n",
       "      <td>S Side (MM 125:11 Jan 1989)\\r\\nSW Face (MM 71:...</td>\n",
       "      <td>2</td>\n",
       "    </tr>\n",
       "  </tbody>\n",
       "</table>\n",
       "</div>"
      ]
     },
     "execution_count": 29,
     "metadata": {},
     "output_type": "execute_result"
    }
   ],
   "execution_count": 29
  },
  {
   "metadata": {},
   "cell_type": "markdown",
   "source": "### Local names",
   "id": "45bc6494d1d8ff46"
  },
  {
   "metadata": {
    "ExecuteTime": {
     "end_time": "2025-07-04T21:44:47.322432Z",
     "start_time": "2025-07-04T21:44:47.315445Z"
    }
   },
   "cell_type": "code",
   "source": "df['local_names'] = df.pkname2.str.split(', ')",
   "id": "354b3dc9d380e6e0",
   "outputs": [],
   "execution_count": 30
  },
  {
   "metadata": {
    "ExecuteTime": {
     "end_time": "2025-07-04T21:44:47.449414Z",
     "start_time": "2025-07-04T21:44:47.436980Z"
    }
   },
   "cell_type": "code",
   "source": [
    "local_names_df = df[['local_names', 'peakid']]\\\n",
    "\t.dropna()\\\n",
    "\t.rename({'local_names': 'name'}, axis=1)\\\n",
    "\t.explode('name')"
   ],
   "id": "61306981293609c4",
   "outputs": [],
   "execution_count": 31
  },
  {
   "metadata": {
    "ExecuteTime": {
     "end_time": "2025-07-04T21:44:47.509334Z",
     "start_time": "2025-07-04T21:44:47.502657Z"
    }
   },
   "cell_type": "code",
   "source": "df.drop(['pkname2', 'local_names'], axis=1, inplace=True)",
   "id": "1736545b8dd38c76",
   "outputs": [],
   "execution_count": 32
  },
  {
   "metadata": {
    "ExecuteTime": {
     "end_time": "2025-07-04T21:44:47.542064Z",
     "start_time": "2025-07-04T21:44:47.535859Z"
    }
   },
   "cell_type": "code",
   "source": "df.rename({'peakid': 'id', 'pkname': 'name', 'heightm': 'height', 'himal': 'mountain_id', 'region': 'region_id', 'pstatus': 'summited'}, axis=1, inplace=True)",
   "id": "b0097e56d0d56507",
   "outputs": [],
   "execution_count": 33
  },
  {
   "metadata": {},
   "cell_type": "code",
   "outputs": [],
   "execution_count": null,
   "source": "df.head()",
   "id": "2f72242046b3f883"
  }
 ],
 "metadata": {},
 "nbformat": 4,
 "nbformat_minor": 5
}
