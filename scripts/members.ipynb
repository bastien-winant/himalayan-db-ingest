{
 "cells": [
  {
   "cell_type": "code",
   "id": "initial_id",
   "metadata": {
    "collapsed": true,
    "ExecuteTime": {
     "end_time": "2025-07-06T21:01:31.289162Z",
     "start_time": "2025-07-06T21:01:30.007478Z"
    }
   },
   "source": [
    "import pandas as pd\n",
    "from utils import *\n",
    "from mappings import *"
   ],
   "outputs": [],
   "execution_count": 1
  },
  {
   "metadata": {
    "ExecuteTime": {
     "end_time": "2025-07-06T21:02:10.536313Z",
     "start_time": "2025-07-06T21:01:48.722604Z"
    }
   },
   "cell_type": "code",
   "source": "df = read_dbf('../data/raw/members.DBF')",
   "id": "37443566aa9f52af",
   "outputs": [],
   "execution_count": 2
  },
  {
   "metadata": {},
   "cell_type": "markdown",
   "source": "### Climbers",
   "id": "7a3b7414d8c8d567"
  },
  {
   "metadata": {
    "ExecuteTime": {
     "end_time": "2025-07-06T21:07:11.327047Z",
     "start_time": "2025-07-06T21:07:11.188017Z"
    }
   },
   "cell_type": "code",
   "source": "df.isna().sum()",
   "id": "ff097d4e578e3e65",
   "outputs": [
    {
     "data": {
      "text/plain": [
       "expid            0\n",
       "membid           0\n",
       "peakid           0\n",
       "myear            0\n",
       "mseason          0\n",
       "             ...  \n",
       "mchksum          0\n",
       "msmtnote1    72599\n",
       "msmtnote2    72884\n",
       "msmtnote3    72939\n",
       "deathrte     72015\n",
       "Length: 78, dtype: int64"
      ]
     },
     "execution_count": 11,
     "metadata": {},
     "output_type": "execute_result"
    }
   ],
   "execution_count": 11
  },
  {
   "metadata": {
    "ExecuteTime": {
     "end_time": "2025-07-06T21:06:08.719262Z",
     "start_time": "2025-07-06T21:06:08.378210Z"
    }
   },
   "cell_type": "code",
   "source": [
    "df_climbers = df[['fname', 'lname', 'sex', 'yob', 'citizen', 'occupation']].drop_duplicates()\n",
    "df_climbers['climber_id'] = df_climbers.groupby(['fname', 'lname', 'sex', 'yob'], as_index=False).ngroup()\n",
    "df_climbers.climber_id = float_to_int(df_climbers.climber_id)"
   ],
   "id": "91772d34efaa84e9",
   "outputs": [],
   "execution_count": 8
  },
  {
   "metadata": {
    "ExecuteTime": {
     "end_time": "2025-07-06T21:06:11.015515Z",
     "start_time": "2025-07-06T21:06:11.002887Z"
    }
   },
   "cell_type": "code",
   "source": "df_climbers.head()",
   "id": "d38a5f4ee1079a08",
   "outputs": [
    {
     "data": {
      "text/plain": [
       "         fname      lname sex   yob citizen                 occupation  \\\n",
       "0  Jean Robert  Clemenson   M  1938  France               Alpine guide   \n",
       "1      Bernard     Dufour   M  1936  France               Alpine guide   \n",
       "2     Philippe     Gerard   M  1950  France  Professional photographer   \n",
       "3         Eric   Lasserre   M  1937  France                  Physician   \n",
       "4          Guy     Peters   M  1944  France               Alpine guide   \n",
       "\n",
       "  climber_id  \n",
       "0      15951  \n",
       "1       3635  \n",
       "2      29410  \n",
       "3       9319  \n",
       "4      12367  "
      ],
      "text/html": [
       "<div>\n",
       "<style scoped>\n",
       "    .dataframe tbody tr th:only-of-type {\n",
       "        vertical-align: middle;\n",
       "    }\n",
       "\n",
       "    .dataframe tbody tr th {\n",
       "        vertical-align: top;\n",
       "    }\n",
       "\n",
       "    .dataframe thead th {\n",
       "        text-align: right;\n",
       "    }\n",
       "</style>\n",
       "<table border=\"1\" class=\"dataframe\">\n",
       "  <thead>\n",
       "    <tr style=\"text-align: right;\">\n",
       "      <th></th>\n",
       "      <th>fname</th>\n",
       "      <th>lname</th>\n",
       "      <th>sex</th>\n",
       "      <th>yob</th>\n",
       "      <th>citizen</th>\n",
       "      <th>occupation</th>\n",
       "      <th>climber_id</th>\n",
       "    </tr>\n",
       "  </thead>\n",
       "  <tbody>\n",
       "    <tr>\n",
       "      <th>0</th>\n",
       "      <td>Jean Robert</td>\n",
       "      <td>Clemenson</td>\n",
       "      <td>M</td>\n",
       "      <td>1938</td>\n",
       "      <td>France</td>\n",
       "      <td>Alpine guide</td>\n",
       "      <td>15951</td>\n",
       "    </tr>\n",
       "    <tr>\n",
       "      <th>1</th>\n",
       "      <td>Bernard</td>\n",
       "      <td>Dufour</td>\n",
       "      <td>M</td>\n",
       "      <td>1936</td>\n",
       "      <td>France</td>\n",
       "      <td>Alpine guide</td>\n",
       "      <td>3635</td>\n",
       "    </tr>\n",
       "    <tr>\n",
       "      <th>2</th>\n",
       "      <td>Philippe</td>\n",
       "      <td>Gerard</td>\n",
       "      <td>M</td>\n",
       "      <td>1950</td>\n",
       "      <td>France</td>\n",
       "      <td>Professional photographer</td>\n",
       "      <td>29410</td>\n",
       "    </tr>\n",
       "    <tr>\n",
       "      <th>3</th>\n",
       "      <td>Eric</td>\n",
       "      <td>Lasserre</td>\n",
       "      <td>M</td>\n",
       "      <td>1937</td>\n",
       "      <td>France</td>\n",
       "      <td>Physician</td>\n",
       "      <td>9319</td>\n",
       "    </tr>\n",
       "    <tr>\n",
       "      <th>4</th>\n",
       "      <td>Guy</td>\n",
       "      <td>Peters</td>\n",
       "      <td>M</td>\n",
       "      <td>1944</td>\n",
       "      <td>France</td>\n",
       "      <td>Alpine guide</td>\n",
       "      <td>12367</td>\n",
       "    </tr>\n",
       "  </tbody>\n",
       "</table>\n",
       "</div>"
      ]
     },
     "execution_count": 9,
     "metadata": {},
     "output_type": "execute_result"
    }
   ],
   "execution_count": 9
  },
  {
   "metadata": {
    "ExecuteTime": {
     "end_time": "2025-07-06T21:06:52.165952Z",
     "start_time": "2025-07-06T21:06:52.135743Z"
    }
   },
   "cell_type": "code",
   "source": [
    "assert df_climbers.climber_id.isna().sum() == 0\n",
    "assert df_climbers.climber_id.nunique() == df_climbers.shape[0]"
   ],
   "id": "f600fe300ce65265",
   "outputs": [
    {
     "ename": "AssertionError",
     "evalue": "",
     "output_type": "error",
     "traceback": [
      "\u001B[0;31m---------------------------------------------------------------------------\u001B[0m",
      "\u001B[0;31mAssertionError\u001B[0m                            Traceback (most recent call last)",
      "Cell \u001B[0;32mIn[10], line 1\u001B[0m\n\u001B[0;32m----> 1\u001B[0m \u001B[38;5;28;01massert\u001B[39;00m df_climbers\u001B[38;5;241m.\u001B[39mclimber_id\u001B[38;5;241m.\u001B[39misna()\u001B[38;5;241m.\u001B[39msum() \u001B[38;5;241m==\u001B[39m \u001B[38;5;241m0\u001B[39m\n\u001B[1;32m      2\u001B[0m \u001B[38;5;28;01massert\u001B[39;00m df_climbers\u001B[38;5;241m.\u001B[39mclimber_id\u001B[38;5;241m.\u001B[39mnunique() \u001B[38;5;241m==\u001B[39m df_climbers\u001B[38;5;241m.\u001B[39mshape[\u001B[38;5;241m0\u001B[39m]\n",
      "\u001B[0;31mAssertionError\u001B[0m: "
     ]
    }
   ],
   "execution_count": 10
  },
  {
   "metadata": {},
   "cell_type": "code",
   "outputs": [],
   "execution_count": null,
   "source": "",
   "id": "66a55111c258b2a7"
  }
 ],
 "metadata": {
  "kernelspec": {
   "display_name": "Python 3",
   "language": "python",
   "name": "python3"
  },
  "language_info": {
   "codemirror_mode": {
    "name": "ipython",
    "version": 2
   },
   "file_extension": ".py",
   "mimetype": "text/x-python",
   "name": "python",
   "nbconvert_exporter": "python",
   "pygments_lexer": "ipython2",
   "version": "2.7.6"
  }
 },
 "nbformat": 4,
 "nbformat_minor": 5
}
