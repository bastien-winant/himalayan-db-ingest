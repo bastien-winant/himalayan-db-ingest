{
 "cells": [
  {
   "cell_type": "code",
   "id": "initial_id",
   "metadata": {
    "collapsed": true,
    "ExecuteTime": {
     "end_time": "2025-07-06T21:34:09.732078Z",
     "start_time": "2025-07-06T21:34:09.728106Z"
    }
   },
   "source": [
    "import pandas as pd\n",
    "from utils import *\n",
    "from mappings import *"
   ],
   "outputs": [],
   "execution_count": 12
  },
  {
   "metadata": {
    "ExecuteTime": {
     "end_time": "2025-07-06T21:34:23.991926Z",
     "start_time": "2025-07-06T21:34:09.756690Z"
    }
   },
   "cell_type": "code",
   "source": "df = read_dbf('../data/raw/members.DBF')",
   "id": "37443566aa9f52af",
   "outputs": [],
   "execution_count": 13
  },
  {
   "metadata": {
    "ExecuteTime": {
     "end_time": "2025-07-06T21:34:24.075509Z",
     "start_time": "2025-07-06T21:34:24.015176Z"
    }
   },
   "cell_type": "code",
   "source": [
    "# merge expedid and year to form true primary key\n",
    "df.expid = df.expid.str.cat(df.myear, sep='_')"
   ],
   "id": "2478a16f42d4895a",
   "outputs": [],
   "execution_count": 14
  },
  {
   "metadata": {},
   "cell_type": "markdown",
   "source": "### Climbers",
   "id": "7a3b7414d8c8d567"
  },
  {
   "metadata": {
    "ExecuteTime": {
     "end_time": "2025-07-06T21:34:24.281532Z",
     "start_time": "2025-07-06T21:34:24.150734Z"
    }
   },
   "cell_type": "code",
   "source": "df.isna().sum()",
   "id": "ff097d4e578e3e65",
   "outputs": [
    {
     "data": {
      "text/plain": [
       "expid            0\n",
       "membid           0\n",
       "peakid           0\n",
       "myear            0\n",
       "mseason          0\n",
       "             ...  \n",
       "mchksum          0\n",
       "msmtnote1    72599\n",
       "msmtnote2    72884\n",
       "msmtnote3    72939\n",
       "deathrte     72015\n",
       "Length: 78, dtype: int64"
      ]
     },
     "execution_count": 15,
     "metadata": {},
     "output_type": "execute_result"
    }
   ],
   "execution_count": 15
  },
  {
   "metadata": {
    "ExecuteTime": {
     "end_time": "2025-07-06T21:34:24.515453Z",
     "start_time": "2025-07-06T21:34:24.357190Z"
    }
   },
   "cell_type": "code",
   "source": [
    "df_climbers = df[['fname', 'lname', 'sex', 'yob', 'citizen', 'occupation']]\\\n",
    "\t.drop_duplicates(ignore_index=True)\\\n",
    "\t.reset_index(names='id')"
   ],
   "id": "91772d34efaa84e9",
   "outputs": [],
   "execution_count": 16
  },
  {
   "metadata": {
    "ExecuteTime": {
     "end_time": "2025-07-06T21:34:25.036397Z",
     "start_time": "2025-07-06T21:34:24.591508Z"
    }
   },
   "cell_type": "code",
   "source": [
    "df = df.merge(df_climbers, how='left')\\\n",
    "\t.drop(['fname', 'lname', 'sex', 'yob', 'citizen', 'occupation'], axis=1)\\\n",
    "\t.rename({'id': 'climber_id'}, axis=1)"
   ],
   "id": "d38a5f4ee1079a08",
   "outputs": [],
   "execution_count": 17
  },
  {
   "metadata": {
    "ExecuteTime": {
     "end_time": "2025-07-06T21:34:25.098144Z",
     "start_time": "2025-07-06T21:34:25.082323Z"
    }
   },
   "cell_type": "code",
   "source": "df_climbers.citizen.unique()",
   "id": "f600fe300ce65265",
   "outputs": [
    {
     "data": {
      "text/plain": [
       "array(['France', 'USA', 'W Germany', 'Nepal', 'New Zealand', 'Austria',\n",
       "       'Italy', 'Australia', 'Japan', 'Spain', 'Canada', 'Switzerland',\n",
       "       'Belgium', 'S Korea', 'UK', 'Denmark', 'Kenya', 'Czechoslovakia',\n",
       "       'Yugoslavia', 'Greece', 'Iceland', 'Bulgaria', 'Ireland',\n",
       "       'Germany', 'Sweden', 'Norway', 'Mexico', 'Poland', 'Slovenia',\n",
       "       'Venezuela', 'Russia', 'Netherlands', 'Czech Republic', 'Ecuador',\n",
       "       'Georgia', 'Portugal', 'China', 'Iran', 'Argentina', 'USSR',\n",
       "       'Croatia', 'Ukraine', 'Kazakhstan', 'India', 'Indonesia',\n",
       "       'Finland', 'Malaysia', 'UK/Hong Kong', 'Luxembourg',\n",
       "       'W Germany/Iran', 'Chile', 'Spain/USA', 'Hungary', 'Brazil',\n",
       "       'Taiwan', 'Hong Kong', 'N Korea', 'Israel', 'Austria/Brazil',\n",
       "       'Germany/Iran', 'Slovakia', 'S Africa', 'Andorra', 'Latvia',\n",
       "       'Estonia', 'Singapore', 'Turkey', 'Romania', 'UK/Italy',\n",
       "       'Liechtenstein', 'Belarus', 'Lithuania', 'USA/Switzerland',\n",
       "       'Thailand', 'UK/USA', 'New Zealand/Australia', 'Peru', 'Macedonia',\n",
       "       'Bolivia', 'Ireland/UK', 'Mongolia', 'Canada/USA', 'USA/UK',\n",
       "       'Pakistan', 'Bosnia-Herzegovina', 'Colombia', 'Costa Rica',\n",
       "       'Uzbekistan', 'Nepal/India', 'Nepal/India?', 'USA/Poland',\n",
       "       'Guatemala', 'Switzerland/Greece', 'Azerbaijan', 'UK/New Zealand',\n",
       "       'India?', 'Kuwait', 'USA/Canada', 'Armenia', 'Macedonia/Australia',\n",
       "       'San Marino', 'Serbia', 'Bhutan', 'Switzerland/UK', None,\n",
       "       'India/Nepal', 'France/Switzerland', 'Lebanon', 'Kyrgyz Republic',\n",
       "       'Switzerland/USA', 'Switzerland/France', 'Malta', 'Cyprus',\n",
       "       'Singapore/Malaysia', 'Jordan', 'Panama', 'Philippines',\n",
       "       'Germany/S Africa', 'Canada/Macedonia', 'Bahrain', 'Colombia/USA',\n",
       "       'Nepal/Australia', 'UK/Egypt', 'UK/Australia', 'Egypt/UK',\n",
       "       'Bangladesh', 'Azerbaijan/Russia', 'Australia/USA',\n",
       "       'Bosnia-Herzegovina/USA', 'Algeria', 'Oman', 'Saudi Arabia',\n",
       "       'France/USA', 'Poland/Canada', 'Vietnam', 'Uruguay', 'Montenegro',\n",
       "       'Australia/New Zealand', 'USA/Jamaica', 'UK/Canada',\n",
       "       'Spain/Brazil', 'Moldova', 'Germany/USA', 'USA/Brazil',\n",
       "       'UK/Argentina', 'Australia/Greece', 'USA/Austria', 'USA/Israel',\n",
       "       'China/Japan', 'Canada/UK', 'Dominican Republic',\n",
       "       'USA/Dominican Republic', 'Palestine', 'Japan/China', 'Mauritius',\n",
       "       'UK/Bangladesh', 'UK/S Africa', 'China/USA', 'France/Algeria',\n",
       "       'Sri Lanka', 'Australia/Ireland', 'UAE', 'New Zealand/UK',\n",
       "       'Turkey/USA', 'Albania', 'Tanzania', 'Saudi Arabia/USA',\n",
       "       'Canada/Ireland', 'Romania/USA', 'Lithuania/USA',\n",
       "       'Ecuador/Germany', 'Turkmenistan', 'Slovakia/USA',\n",
       "       'Switzerland/Germany', 'Australia/Sweden', 'S Africa/UK', 'Qatar',\n",
       "       'USA/Ireland', 'Morocco', 'Argentina/Canada', 'Nepal/Canada',\n",
       "       'Myanmar', 'Australia/UK', 'Denmark/Australia', 'S Africa/Zambia',\n",
       "       'USA/Russia', 'USA/China', 'UK/Russia', 'UK/Nepal', 'Tunisia',\n",
       "       'Italy/USA', 'UK/Kenya', 'USA/Iran', 'Kosovo', 'Poland/USA',\n",
       "       'Hungary/Romania', 'USA/Romania', 'Germany/Switzerland',\n",
       "       'UK/India', 'Paraguay/Germany', 'USA/Colombia', 'Chile/Sweden',\n",
       "       'UK/Lebanon', 'Canada/Russia', 'Spain/Venezuela', 'Syria',\n",
       "       'UK/Iceland', 'Egypt', 'Botswana', 'USA/Ethiopia', 'Serbia/Jordan',\n",
       "       'Netherlands/Switzerland', 'Italy/Slovenia', 'USA/Pakistan',\n",
       "       'Mongolia/Australia', 'USA/Germany', 'UK/Iran', 'UK/Jordan',\n",
       "       'Iraq', 'S Africa/Portugal', 'USA/Lativa', 'S Africa/Ukraine',\n",
       "       'USA/New Zealand', 'Tajikistan', 'Cuba', 'El Salvador',\n",
       "       'Canada/Portugal', 'UK/Spain', 'Russia/Ukraine', 'Libya',\n",
       "       'USA/Cuba', 'USA/India', 'Honduras', 'Malaysi', 'USA/Ukraine',\n",
       "       'Germany/UK', 'USA/UKraine', 'UK/Sri Lanka', 'UK/Switzerland',\n",
       "       'Cyprus/Russia', 'Nepal/USA', 'Afghanistan/USA',\n",
       "       'Ukraine/Azerbaijan', 'USA/Latvia', 'Afghanistan',\n",
       "       'Norway/Denmark', 'Kyrgyz Republic/Russia', 'USA/Ecuador',\n",
       "       'France/Luxembourg', 'Australia/S Africa', 'Dominica',\n",
       "       'Austria/Italy', 'UK/Germany', 'Mali'], dtype=object)"
      ]
     },
     "execution_count": 18,
     "metadata": {},
     "output_type": "execute_result"
    }
   ],
   "execution_count": 18
  },
  {
   "metadata": {
    "ExecuteTime": {
     "end_time": "2025-07-06T21:34:25.254806Z",
     "start_time": "2025-07-06T21:34:25.123298Z"
    }
   },
   "cell_type": "code",
   "source": [
    "df_member_citizen = df_climbers[['id', 'citizen']].drop_duplicates()\n",
    "df_member_citizen.loc[:, 'citizen'] = df_member_citizen.citizen.str.split('/')\n",
    "df_member_citizen = df_member_citizen.explode('citizen').rename({'id': 'climber_id'}, axis=1)"
   ],
   "id": "66a55111c258b2a7",
   "outputs": [],
   "execution_count": 19
  },
  {
   "metadata": {
    "ExecuteTime": {
     "end_time": "2025-07-06T21:34:25.367445Z",
     "start_time": "2025-07-06T21:34:25.281090Z"
    }
   },
   "cell_type": "code",
   "source": "df_member_citizen = update_country_list(df_member_citizen, 'citizen')",
   "id": "780aa5d837e49213",
   "outputs": [],
   "execution_count": 20
  },
  {
   "metadata": {
    "ExecuteTime": {
     "end_time": "2025-07-06T21:34:25.407176Z",
     "start_time": "2025-07-06T21:34:25.393944Z"
    }
   },
   "cell_type": "code",
   "source": "df_member_citizen.head()",
   "id": "acdf673381c03db",
   "outputs": [
    {
     "data": {
      "text/plain": [
       "   climber_id  citizen_id\n",
       "0           0          17\n",
       "1           1          17\n",
       "2           2          17\n",
       "3           3          17\n",
       "4           4          17"
      ],
      "text/html": [
       "<div>\n",
       "<style scoped>\n",
       "    .dataframe tbody tr th:only-of-type {\n",
       "        vertical-align: middle;\n",
       "    }\n",
       "\n",
       "    .dataframe tbody tr th {\n",
       "        vertical-align: top;\n",
       "    }\n",
       "\n",
       "    .dataframe thead th {\n",
       "        text-align: right;\n",
       "    }\n",
       "</style>\n",
       "<table border=\"1\" class=\"dataframe\">\n",
       "  <thead>\n",
       "    <tr style=\"text-align: right;\">\n",
       "      <th></th>\n",
       "      <th>climber_id</th>\n",
       "      <th>citizen_id</th>\n",
       "    </tr>\n",
       "  </thead>\n",
       "  <tbody>\n",
       "    <tr>\n",
       "      <th>0</th>\n",
       "      <td>0</td>\n",
       "      <td>17</td>\n",
       "    </tr>\n",
       "    <tr>\n",
       "      <th>1</th>\n",
       "      <td>1</td>\n",
       "      <td>17</td>\n",
       "    </tr>\n",
       "    <tr>\n",
       "      <th>2</th>\n",
       "      <td>2</td>\n",
       "      <td>17</td>\n",
       "    </tr>\n",
       "    <tr>\n",
       "      <th>3</th>\n",
       "      <td>3</td>\n",
       "      <td>17</td>\n",
       "    </tr>\n",
       "    <tr>\n",
       "      <th>4</th>\n",
       "      <td>4</td>\n",
       "      <td>17</td>\n",
       "    </tr>\n",
       "  </tbody>\n",
       "</table>\n",
       "</div>"
      ]
     },
     "execution_count": 21,
     "metadata": {},
     "output_type": "execute_result"
    }
   ],
   "execution_count": 21
  },
  {
   "metadata": {
    "ExecuteTime": {
     "end_time": "2025-07-06T21:34:25.489799Z",
     "start_time": "2025-07-06T21:34:25.487092Z"
    }
   },
   "cell_type": "code",
   "source": "",
   "id": "4e9d2c3123c9a017",
   "outputs": [],
   "execution_count": null
  }
 ],
 "metadata": {
  "kernelspec": {
   "display_name": "Python 3",
   "language": "python",
   "name": "python3"
  },
  "language_info": {
   "codemirror_mode": {
    "name": "ipython",
    "version": 2
   },
   "file_extension": ".py",
   "mimetype": "text/x-python",
   "name": "python",
   "nbconvert_exporter": "python",
   "pygments_lexer": "ipython2",
   "version": "2.7.6"
  }
 },
 "nbformat": 4,
 "nbformat_minor": 5
}
